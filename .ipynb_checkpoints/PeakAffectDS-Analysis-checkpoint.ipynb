{
 "cells": [
  {
   "cell_type": "markdown",
   "id": "c5482c61",
   "metadata": {},
   "source": [
    "# PeakAffectDS Analysis"
   ]
  },
  {
   "cell_type": "markdown",
   "id": "0d0d46a4",
   "metadata": {},
   "source": [
    "### Load Libraries\n",
    "\n",
    "Here the relevant libraries needed to properly analyze the data are loaded. The Pandas library is used to load the data into dataframes."
   ]
  },
  {
   "cell_type": "code",
   "execution_count": 40,
   "id": "3b8fee6a",
   "metadata": {},
   "outputs": [],
   "source": [
    "import scipy\n",
    "import scipy.signal as signal\n",
    "import numpy as np\n",
    "import pandas as pd\n",
    "import matplotlib.pyplot as plt"
   ]
  },
  {
   "cell_type": "markdown",
   "id": "ebe32953",
   "metadata": {},
   "source": [
    "### Import Data"
   ]
  },
  {
   "cell_type": "code",
   "execution_count": 21,
   "id": "99911031",
   "metadata": {},
   "outputs": [
    {
     "name": "stdout",
     "output_type": "stream",
     "text": [
      "rows = 390568\n"
     ]
    },
    {
     "data": {
      "text/html": [
       "<div>\n",
       "<style scoped>\n",
       "    .dataframe tbody tr th:only-of-type {\n",
       "        vertical-align: middle;\n",
       "    }\n",
       "\n",
       "    .dataframe tbody tr th {\n",
       "        vertical-align: top;\n",
       "    }\n",
       "\n",
       "    .dataframe thead th {\n",
       "        text-align: right;\n",
       "    }\n",
       "</style>\n",
       "<table border=\"1\" class=\"dataframe\">\n",
       "  <thead>\n",
       "    <tr style=\"text-align: right;\">\n",
       "      <th></th>\n",
       "      <th>Time</th>\n",
       "      <th>EMG_zyg</th>\n",
       "      <th>EMG_cor</th>\n",
       "      <th>ECG</th>\n",
       "      <th>Respiration</th>\n",
       "      <th>Events</th>\n",
       "    </tr>\n",
       "  </thead>\n",
       "  <tbody>\n",
       "    <tr>\n",
       "      <th>0</th>\n",
       "      <td>0.0005</td>\n",
       "      <td>-0.048828</td>\n",
       "      <td>-0.057068</td>\n",
       "      <td>-0.170288</td>\n",
       "      <td>-0.065918</td>\n",
       "      <td>0.0</td>\n",
       "    </tr>\n",
       "    <tr>\n",
       "      <th>1</th>\n",
       "      <td>0.0010</td>\n",
       "      <td>-0.031433</td>\n",
       "      <td>-0.043030</td>\n",
       "      <td>-0.169067</td>\n",
       "      <td>-0.065308</td>\n",
       "      <td>0.0</td>\n",
       "    </tr>\n",
       "    <tr>\n",
       "      <th>2</th>\n",
       "      <td>0.0015</td>\n",
       "      <td>-0.002136</td>\n",
       "      <td>-0.024414</td>\n",
       "      <td>-0.169983</td>\n",
       "      <td>-0.065002</td>\n",
       "      <td>0.0</td>\n",
       "    </tr>\n",
       "    <tr>\n",
       "      <th>3</th>\n",
       "      <td>0.0020</td>\n",
       "      <td>0.030212</td>\n",
       "      <td>-0.003357</td>\n",
       "      <td>-0.172424</td>\n",
       "      <td>-0.064392</td>\n",
       "      <td>0.0</td>\n",
       "    </tr>\n",
       "    <tr>\n",
       "      <th>4</th>\n",
       "      <td>0.0025</td>\n",
       "      <td>0.040894</td>\n",
       "      <td>0.010681</td>\n",
       "      <td>-0.174866</td>\n",
       "      <td>-0.063782</td>\n",
       "      <td>0.0</td>\n",
       "    </tr>\n",
       "  </tbody>\n",
       "</table>\n",
       "</div>"
      ],
      "text/plain": [
       "     Time   EMG_zyg   EMG_cor       ECG  Respiration  Events\n",
       "0  0.0005 -0.048828 -0.057068 -0.170288    -0.065918     0.0\n",
       "1  0.0010 -0.031433 -0.043030 -0.169067    -0.065308     0.0\n",
       "2  0.0015 -0.002136 -0.024414 -0.169983    -0.065002     0.0\n",
       "3  0.0020  0.030212 -0.003357 -0.172424    -0.064392     0.0\n",
       "4  0.0025  0.040894  0.010681 -0.174866    -0.063782     0.0"
      ]
     },
     "execution_count": 21,
     "metadata": {},
     "output_type": "execute_result"
    }
   ],
   "source": [
    "happy = pd.read_csv('Data/Raw_PID_01-10/01/01-03-01.csv')\n",
    "print('rows =', len(happy.index))\n",
    "happy.head()"
   ]
  },
  {
   "cell_type": "markdown",
   "id": "aee44a9e",
   "metadata": {},
   "source": [
    "### Exploring The Data\n",
    "\n",
    "Now the data can be used to make a power spectrum graph. Here, a graph is made using the `np.fft.fft()` function. Note that the resulting graph will be mirrored at `Frequency=0`, all frequencies less than 0 are removed."
   ]
  },
  {
   "cell_type": "code",
   "execution_count": 158,
   "id": "340a4eeb",
   "metadata": {},
   "outputs": [],
   "source": [
    "#\n",
    "# Creates a dataframe of power spectrum information given a series of\n",
    "# voltage values and the time step between each value\n",
    "#\n",
    "\n",
    "def makePowerSpectrum(data, time_step):\n",
    "    mags = np.abs(np.fft.fft(data)) ** 2\n",
    "    freqs = np.fft.fftfreq(data.size, time_step)\n",
    "    idx = np.argsort(freqs)\n",
    "    ps = pd.DataFrame({'Frequency': freqs[idx], 'Magnitude': mags[idx]})\n",
    "    \n",
    "    # Remove mirrored frequencies\n",
    "    ps = ps[ps['Frequency'] >= 0]\n",
    "    \n",
    "    return ps"
   ]
  },
  {
   "cell_type": "code",
   "execution_count": 23,
   "id": "317f2f3a",
   "metadata": {},
   "outputs": [
    {
     "name": "stdout",
     "output_type": "stream",
     "text": [
      "rows = 195284\n"
     ]
    },
    {
     "data": {
      "text/html": [
       "<div>\n",
       "<style scoped>\n",
       "    .dataframe tbody tr th:only-of-type {\n",
       "        vertical-align: middle;\n",
       "    }\n",
       "\n",
       "    .dataframe tbody tr th {\n",
       "        vertical-align: top;\n",
       "    }\n",
       "\n",
       "    .dataframe thead th {\n",
       "        text-align: right;\n",
       "    }\n",
       "</style>\n",
       "<table border=\"1\" class=\"dataframe\">\n",
       "  <thead>\n",
       "    <tr style=\"text-align: right;\">\n",
       "      <th></th>\n",
       "      <th>Frequency</th>\n",
       "      <th>Magnitude</th>\n",
       "    </tr>\n",
       "  </thead>\n",
       "  <tbody>\n",
       "    <tr>\n",
       "      <th>195284</th>\n",
       "      <td>0.000000</td>\n",
       "      <td>78327.384986</td>\n",
       "    </tr>\n",
       "    <tr>\n",
       "      <th>195285</th>\n",
       "      <td>0.005121</td>\n",
       "      <td>166.548020</td>\n",
       "    </tr>\n",
       "    <tr>\n",
       "      <th>195286</th>\n",
       "      <td>0.010241</td>\n",
       "      <td>965.221469</td>\n",
       "    </tr>\n",
       "    <tr>\n",
       "      <th>195287</th>\n",
       "      <td>0.015362</td>\n",
       "      <td>495.377823</td>\n",
       "    </tr>\n",
       "    <tr>\n",
       "      <th>195288</th>\n",
       "      <td>0.020483</td>\n",
       "      <td>435.852112</td>\n",
       "    </tr>\n",
       "  </tbody>\n",
       "</table>\n",
       "</div>"
      ],
      "text/plain": [
       "        Frequency     Magnitude\n",
       "195284   0.000000  78327.384986\n",
       "195285   0.005121    166.548020\n",
       "195286   0.010241    965.221469\n",
       "195287   0.015362    495.377823\n",
       "195288   0.020483    435.852112"
      ]
     },
     "execution_count": 23,
     "metadata": {},
     "output_type": "execute_result"
    }
   ],
   "source": [
    "#\n",
    "# Looks at the shape of the data\n",
    "#\n",
    "\n",
    "ps = makePowerSpectrum(happy['EMG_zyg'], 0.0005)\n",
    "print('rows =', len(ps))\n",
    "ps.head()"
   ]
  },
  {
   "cell_type": "code",
   "execution_count": 24,
   "id": "ddff2781",
   "metadata": {},
   "outputs": [
    {
     "data": {
      "text/plain": [
       "Text(0.5, 1.0, 'Power Spectrum of EMG_zyg')"
      ]
     },
     "execution_count": 24,
     "metadata": {},
     "output_type": "execute_result"
    },
    {
     "data": {
      "image/png": "[encoded data removed]",
      "text/plain": [
       "<Figure size 432x288 with 1 Axes>"
      ]
     },
     "metadata": {
      "needs_background": "light"
     },
     "output_type": "display_data"
    }
   ],
   "source": [
    "#\n",
    "# Plots the power spectrum for EMG_zyg\n",
    "#\n",
    "\n",
    "plt.plot(ps['Frequency'], ps['Magnitude'])\n",
    "plt.xlabel('Frequency')\n",
    "plt.ylabel('Magnitude')\n",
    "plt.title('Power Spectrum of EMG_zyg')"
   ]
  },
  {
   "cell_type": "markdown",
   "id": "83288823",
   "metadata": {},
   "source": [
    "This graph shows that there are massive spikes in the power at the 50 Hz range, as expected. This is being caused by noise introduced by the device's power source during the recordings.\n",
    "\n",
    "The shape of the data shows that there are many more rows than frequencies. This means each entry does not vary by 1 Hz, but rather a fraction of 1 Hz.\n",
    "\n",
    "In the next graph, the frequencies greater than 55 are plotted to show a better sense of what the graph looks like while avoiding the noise introduced:"
   ]
  },
  {
   "cell_type": "code",
   "execution_count": 25,
   "id": "8f9bc453",
   "metadata": {},
   "outputs": [
    {
     "data": {
      "text/plain": [
       "Text(0, 0.5, 'Magnitude')"
      ]
     },
     "execution_count": 25,
     "metadata": {},
     "output_type": "execute_result"
    },
    {
     "data": {
      "image/png": "[encoded data removed]",
      "text/plain": [
       "<Figure size 432x288 with 1 Axes>"
      ]
     },
     "metadata": {
      "needs_background": "light"
     },
     "output_type": "display_data"
    }
   ],
   "source": [
    "#\n",
    "# Ensuring the data still looks good despite noise\n",
    "#\n",
    "\n",
    "upper_ps = ps[ps['Frequency'] >= 55]\n",
    "\n",
    "plt.plot(upper_ps['Frequency'], upper_ps['Magnitude'])\n",
    "plt.xlabel('Frequency')\n",
    "plt.ylabel('Magnitude')"
   ]
  },
  {
   "cell_type": "markdown",
   "id": "71d0aac3",
   "metadata": {},
   "source": [
    "Now that the noise is not shown, the key frequencies affecting the EMG can be seen, validating that the function works properly. The following graphs show the power spectrum graphs for the remaining columns: `EMG_cor`, `EMC` and `Respiration`."
   ]
  },
  {
   "cell_type": "code",
   "execution_count": 26,
   "id": "b5b7fa33",
   "metadata": {},
   "outputs": [
    {
     "data": {
      "text/plain": [
       "Text(0.5, 1.0, 'Power Spectrum of EMG_cor')"
      ]
     },
     "execution_count": 26,
     "metadata": {},
     "output_type": "execute_result"
    },
    {
     "data": {
      "image/png": "[encoded data removed]",
      "text/plain": [
       "<Figure size 432x288 with 1 Axes>"
      ]
     },
     "metadata": {
      "needs_background": "light"
     },
     "output_type": "display_data"
    }
   ],
   "source": [
    "#\n",
    "# Plots the power spectrum for EMG_cor\n",
    "#\n",
    "\n",
    "ps = makePowerSpectrum(happy['EMG_cor'], 0.0005)\n",
    "plt.plot(ps['Frequency'], ps['Magnitude'])\n",
    "plt.xlabel('Frequency')\n",
    "plt.ylabel('Magnitude')\n",
    "plt.title('Power Spectrum of EMG_cor')"
   ]
  },
  {
   "cell_type": "code",
   "execution_count": 27,
   "id": "ce6a6a50",
   "metadata": {},
   "outputs": [
    {
     "data": {
      "text/plain": [
       "Text(0.5, 1.0, 'Power Spectrum of ECG')"
      ]
     },
     "execution_count": 27,
     "metadata": {},
     "output_type": "execute_result"
    },
    {
     "data": {
      "image/png": "[encoded data removed]",
      "text/plain": [
       "<Figure size 432x288 with 1 Axes>"
      ]
     },
     "metadata": {
      "needs_background": "light"
     },
     "output_type": "display_data"
    }
   ],
   "source": [
    "#\n",
    "# Plots the power spectrum for ECG\n",
    "#\n",
    "\n",
    "ps = makePowerSpectrum(happy['ECG'], 0.0005)\n",
    "plt.plot(ps['Frequency'], ps['Magnitude'])\n",
    "plt.xlabel('Frequency')\n",
    "plt.ylabel('Magnitude')\n",
    "plt.title('Power Spectrum of ECG')"
   ]
  },
  {
   "cell_type": "code",
   "execution_count": 28,
   "id": "c5fa66a2",
   "metadata": {},
   "outputs": [
    {
     "data": {
      "text/plain": [
       "Text(0.5, 1.0, 'Power Spectrum of Respirator')"
      ]
     },
     "execution_count": 28,
     "metadata": {},
     "output_type": "execute_result"
    },
    {
     "data": {
      "image/png": "[encoded data removed]",
      "text/plain": [
       "<Figure size 432x288 with 1 Axes>"
      ]
     },
     "metadata": {
      "needs_background": "light"
     },
     "output_type": "display_data"
    }
   ],
   "source": [
    "#\n",
    "# Plots the power spectrum for Respirator\n",
    "#\n",
    "\n",
    "ps = makePowerSpectrum(happy['Respiration'], 0.0005)\n",
    "plt.plot(ps['Frequency'], ps['Magnitude'])\n",
    "plt.xlabel('Frequency')\n",
    "plt.ylabel('Magnitude')\n",
    "plt.title('Power Spectrum of Respirator')"
   ]
  },
  {
   "cell_type": "markdown",
   "id": "f98f3f3e",
   "metadata": {},
   "source": [
    "### Validating findings\n",
    "\n",
    "The following code is to check if the other data available looks the same:"
   ]
  },
  {
   "cell_type": "code",
   "execution_count": 29,
   "id": "1a1b1a0a",
   "metadata": {},
   "outputs": [
    {
     "name": "stdout",
     "output_type": "stream",
     "text": [
      "rows = 740037\n"
     ]
    },
    {
     "data": {
      "text/html": [
       "<div>\n",
       "<style scoped>\n",
       "    .dataframe tbody tr th:only-of-type {\n",
       "        vertical-align: middle;\n",
       "    }\n",
       "\n",
       "    .dataframe tbody tr th {\n",
       "        vertical-align: top;\n",
       "    }\n",
       "\n",
       "    .dataframe thead th {\n",
       "        text-align: right;\n",
       "    }\n",
       "</style>\n",
       "<table border=\"1\" class=\"dataframe\">\n",
       "  <thead>\n",
       "    <tr style=\"text-align: right;\">\n",
       "      <th></th>\n",
       "      <th>Time</th>\n",
       "      <th>EMG_zyg</th>\n",
       "      <th>EMG_cor</th>\n",
       "      <th>ECG</th>\n",
       "      <th>Respiration</th>\n",
       "      <th>Events</th>\n",
       "    </tr>\n",
       "  </thead>\n",
       "  <tbody>\n",
       "    <tr>\n",
       "      <th>0</th>\n",
       "      <td>0.0005</td>\n",
       "      <td>0.038147</td>\n",
       "      <td>0.025330</td>\n",
       "      <td>0.236511</td>\n",
       "      <td>-0.601196</td>\n",
       "      <td>0.0</td>\n",
       "    </tr>\n",
       "    <tr>\n",
       "      <th>1</th>\n",
       "      <td>0.0010</td>\n",
       "      <td>0.033569</td>\n",
       "      <td>0.019226</td>\n",
       "      <td>0.238342</td>\n",
       "      <td>-0.601196</td>\n",
       "      <td>0.0</td>\n",
       "    </tr>\n",
       "    <tr>\n",
       "      <th>2</th>\n",
       "      <td>0.0015</td>\n",
       "      <td>0.034485</td>\n",
       "      <td>0.014343</td>\n",
       "      <td>0.240479</td>\n",
       "      <td>-0.601196</td>\n",
       "      <td>0.0</td>\n",
       "    </tr>\n",
       "    <tr>\n",
       "      <th>3</th>\n",
       "      <td>0.0020</td>\n",
       "      <td>0.052185</td>\n",
       "      <td>0.019836</td>\n",
       "      <td>0.242615</td>\n",
       "      <td>-0.601196</td>\n",
       "      <td>0.0</td>\n",
       "    </tr>\n",
       "    <tr>\n",
       "      <th>4</th>\n",
       "      <td>0.0025</td>\n",
       "      <td>0.049133</td>\n",
       "      <td>0.016479</td>\n",
       "      <td>0.244751</td>\n",
       "      <td>-0.601196</td>\n",
       "      <td>0.0</td>\n",
       "    </tr>\n",
       "  </tbody>\n",
       "</table>\n",
       "</div>"
      ],
      "text/plain": [
       "     Time   EMG_zyg   EMG_cor       ECG  Respiration  Events\n",
       "0  0.0005  0.038147  0.025330  0.236511    -0.601196     0.0\n",
       "1  0.0010  0.033569  0.019226  0.238342    -0.601196     0.0\n",
       "2  0.0015  0.034485  0.014343  0.240479    -0.601196     0.0\n",
       "3  0.0020  0.052185  0.019836  0.242615    -0.601196     0.0\n",
       "4  0.0025  0.049133  0.016479  0.244751    -0.601196     0.0"
      ]
     },
     "execution_count": 29,
     "metadata": {},
     "output_type": "execute_result"
    }
   ],
   "source": [
    "happy2 = pd.read_csv('Data/Raw_PID_01-10/02/02-03-02.csv')\n",
    "print('rows =', len(happy2.index))\n",
    "happy2.head()"
   ]
  },
  {
   "cell_type": "code",
   "execution_count": 30,
   "id": "626c9358",
   "metadata": {},
   "outputs": [
    {
     "data": {
      "text/plain": [
       "Text(0.5, 1.0, 'Power Spectrum of ECG')"
      ]
     },
     "execution_count": 30,
     "metadata": {},
     "output_type": "execute_result"
    },
    {
     "data": {
      "image/png": "[encoded data removed]",
      "text/plain": [
       "<Figure size 432x288 with 1 Axes>"
      ]
     },
     "metadata": {
      "needs_background": "light"
     },
     "output_type": "display_data"
    }
   ],
   "source": [
    "ps = makePowerSpectrum(happy2['EMG_zyg'], 0.0005)\n",
    "plt.plot(ps['Frequency'], ps['Magnitude'])\n",
    "plt.xlabel('Frequency')\n",
    "plt.ylabel('Magnitude')\n",
    "plt.title('Power Spectrum of ECG')"
   ]
  },
  {
   "cell_type": "code",
   "execution_count": 31,
   "id": "eeb9cf81",
   "metadata": {},
   "outputs": [
    {
     "data": {
      "text/plain": [
       "Text(0, 0.5, 'Magnitude')"
      ]
     },
     "execution_count": 31,
     "metadata": {},
     "output_type": "execute_result"
    },
    {
     "data": {
      "image/png": "[encoded data removed]",
      "text/plain": [
       "<Figure size 432x288 with 1 Axes>"
      ]
     },
     "metadata": {
      "needs_background": "light"
     },
     "output_type": "display_data"
    }
   ],
   "source": [
    "upper_ps = ps[ps['Frequency'] >= 55]\n",
    "\n",
    "plt.plot(upper_ps['Frequency'], upper_ps['Magnitude'])\n",
    "plt.xlabel('Frequency')\n",
    "plt.ylabel('Magnitude')"
   ]
  },
  {
   "cell_type": "markdown",
   "id": "1cdba140",
   "metadata": {},
   "source": [
    "### Removing Noise\n",
    "\n",
    "The resulting power spectrum reveals that there is noise in the 50 Hz range that needs to be removed. This can be taken care of using a notch filter using Scipy.\n",
    "\n",
    "A notch filter is a filter that blocks frequencies within a specific range. This will help remove the 50 Hz frequency"
   ]
  },
  {
   "cell_type": "code",
   "execution_count": 272,
   "id": "22aa41bb",
   "metadata": {},
   "outputs": [
    {
     "data": {
      "text/plain": [
       "Text(0.5, 1.0, 'Raw spectrum')"
      ]
     },
     "execution_count": 272,
     "metadata": {},
     "output_type": "execute_result"
    },
    {
     "data": {
      "image/png": "[encoded data removed]",
      "text/plain": [
       "<Figure size 432x288 with 1 Axes>"
      ]
     },
     "metadata": {
      "needs_background": "light"
     },
     "output_type": "display_data"
    }
   ],
   "source": [
    "#\n",
    "# Get the power spectrum\n",
    "#\n",
    "\n",
    "ps = makePowerSpectrum(happy['EMG_zyg'], 0.0005)\n",
    "\n",
    "plt.plot(ps['Frequency'], ps['Magnitude'])\n",
    "plt.title('Raw spectrum')"
   ]
  },
  {
   "cell_type": "code",
   "execution_count": 273,
   "id": "b1e72fea",
   "metadata": {},
   "outputs": [
    {
     "data": {
      "text/plain": [
       "Text(0.5, 1.0, 'Filtered spectrum')"
      ]
     },
     "execution_count": 273,
     "metadata": {},
     "output_type": "execute_result"
    },
    {
     "data": {
      "image/png": "[encoded data removed]",
      "text/plain": [
       "<Figure size 432x288 with 1 Axes>"
      ]
     },
     "metadata": {
      "needs_background": "light"
     },
     "output_type": "display_data"
    }
   ],
   "source": [
    "#\n",
    "# Filter out 50 Hz frequencies\n",
    "#\n",
    "\n",
    "ps.loc[(ps['Frequency'] >= 49) & (ps['Frequency'] <= 51), 'Magnitude'] = 0\n",
    "\n",
    "plt.plot(ps['Frequency'], ps['Magnitude'])\n",
    "plt.title('Filtered spectrum')"
   ]
  },
  {
   "cell_type": "code",
   "execution_count": 275,
   "id": "224f8177",
   "metadata": {},
   "outputs": [],
   "source": [
    "#\n",
    "# Gets local maximums of the data\n",
    "#\n",
    "\n",
    "def getLocalMax(vals, r=10000, threshold=2000):\n",
    "    # A value is a local max if it is:\n",
    "    # 1. Larger than the mean value\n",
    "    # 2. Larger than the nearby values around it\n",
    "    suppressed = np.copy(vals)\n",
    "    val_mean = np.mean(vals)\n",
    "    \n",
    "    for i in range(len(vals)):\n",
    "        if vals[i] > threshold:\n",
    "            val = vals[i]\n",
    "            left = max(i - r, 0)\n",
    "            right = min(i + r, len(vals) - 1)\n",
    "            \n",
    "            for k in range(left, right + 1):\n",
    "                if k != i and vals[k] > val:\n",
    "                    suppressed[i] = 0\n",
    "                    break\n",
    "                        \n",
    "        else:\n",
    "            suppressed[i] = 0\n",
    "    return suppressed\n",
    "\n",
    "#\n",
    "# Filters significant frequencies out from a power spectrum dataframe\n",
    "#\n",
    "\n",
    "def getSigFreqs(data, r=10000, threshold=2000):\n",
    "    maxFreqs = getLocalMax(list(data['Magnitude']), r, threshold)\n",
    "    return data[maxFreqs > 0]"
   ]
  },
  {
   "cell_type": "code",
   "execution_count": 277,
   "id": "dc1e10cc",
   "metadata": {},
   "outputs": [
    {
     "name": "stdout",
     "output_type": "stream",
     "text": [
      "There are 7 significant frequencies\n"
     ]
    },
    {
     "data": {
      "text/html": [
       "<div>\n",
       "<style scoped>\n",
       "    .dataframe tbody tr th:only-of-type {\n",
       "        vertical-align: middle;\n",
       "    }\n",
       "\n",
       "    .dataframe tbody tr th {\n",
       "        vertical-align: top;\n",
       "    }\n",
       "\n",
       "    .dataframe thead th {\n",
       "        text-align: right;\n",
       "    }\n",
       "</style>\n",
       "<table border=\"1\" class=\"dataframe\">\n",
       "  <thead>\n",
       "    <tr style=\"text-align: right;\">\n",
       "      <th></th>\n",
       "      <th>Frequency</th>\n",
       "      <th>Magnitude</th>\n",
       "    </tr>\n",
       "  </thead>\n",
       "  <tbody>\n",
       "    <tr>\n",
       "      <th>195284</th>\n",
       "      <td>0.000000</td>\n",
       "      <td>78327.384986</td>\n",
       "    </tr>\n",
       "    <tr>\n",
       "      <th>224553</th>\n",
       "      <td>149.879150</td>\n",
       "      <td>85578.446388</td>\n",
       "    </tr>\n",
       "    <tr>\n",
       "      <th>244112</th>\n",
       "      <td>250.035845</td>\n",
       "      <td>65340.956541</td>\n",
       "    </tr>\n",
       "    <tr>\n",
       "      <th>263621</th>\n",
       "      <td>349.936503</td>\n",
       "      <td>77280.868645</td>\n",
       "    </tr>\n",
       "    <tr>\n",
       "      <th>283100</th>\n",
       "      <td>449.683538</td>\n",
       "      <td>26413.025102</td>\n",
       "    </tr>\n",
       "    <tr>\n",
       "      <th>302628</th>\n",
       "      <td>549.681490</td>\n",
       "      <td>62053.872419</td>\n",
       "    </tr>\n",
       "    <tr>\n",
       "      <th>322127</th>\n",
       "      <td>649.530940</td>\n",
       "      <td>11022.303072</td>\n",
       "    </tr>\n",
       "  </tbody>\n",
       "</table>\n",
       "</div>"
      ],
      "text/plain": [
       "         Frequency     Magnitude\n",
       "195284    0.000000  78327.384986\n",
       "224553  149.879150  85578.446388\n",
       "244112  250.035845  65340.956541\n",
       "263621  349.936503  77280.868645\n",
       "283100  449.683538  26413.025102\n",
       "302628  549.681490  62053.872419\n",
       "322127  649.530940  11022.303072"
      ]
     },
     "execution_count": 277,
     "metadata": {},
     "output_type": "execute_result"
    }
   ],
   "source": [
    "#\n",
    "# Gets the significant frequencies from the power spectrum\n",
    "#\n",
    "\n",
    "sig_ps = getSigFreqs(ps)\n",
    "print(\"There are\", len(sig_ps), \"significant frequencies\")\n",
    "sig_ps"
   ]
  },
  {
   "cell_type": "markdown",
   "id": "dc497870",
   "metadata": {},
   "source": [
    "### Misc"
   ]
  },
  {
   "cell_type": "code",
   "execution_count": 259,
   "id": "2002f98b",
   "metadata": {},
   "outputs": [
    {
     "name": "stdout",
     "output_type": "stream",
     "text": [
      "        Frequency  Magnitude\n",
      "204853  49.000430        0.0\n",
      "204854  49.005551        0.0\n",
      "204855  49.010672        0.0\n",
      "204856  49.015792        0.0\n",
      "204857  49.020913        0.0\n",
      "...           ...        ...\n",
      "205239  50.977039        0.0\n",
      "205240  50.982159        0.0\n",
      "205241  50.987280        0.0\n",
      "205242  50.992401        0.0\n",
      "205243  50.997522        0.0\n",
      "\n",
      "[391 rows x 2 columns]\n"
     ]
    },
    {
     "data": {
      "text/plain": [
       "[<matplotlib.lines.Line2D at 0x192fab932b0>]"
      ]
     },
     "execution_count": 259,
     "metadata": {},
     "output_type": "execute_result"
    },
    {
     "data": {
      "image/png": "[encoded data removed]",
      "text/plain": [
       "<Figure size 432x288 with 1 Axes>"
      ]
     },
     "metadata": {
      "needs_background": "light"
     },
     "output_type": "display_data"
    }
   ],
   "source": [
    "#\n",
    "# Applies a 50 Hz notch filter\n",
    "#\n",
    "\n",
    "b, a = signal.iirnotch(50, 0.25, fs=1/0.0005)\n",
    "test_ps['Magnitude'] = signal.filtfilt(b, a, test_ps['Magnitude'])\n",
    "\n",
    "print(test_ps[test_ps['Magnitude'] == max(test_ps['Magnitude'])])\n",
    "\n",
    "plt.plot(test_ps['Frequency'], test_ps['Magnitude'])"
   ]
  },
  {
   "cell_type": "code",
   "execution_count": 229,
   "id": "65f4ff12",
   "metadata": {},
   "outputs": [
    {
     "data": {
      "text/plain": [
       "Text(0.5, 1.0, 'Raw data')"
      ]
     },
     "execution_count": 229,
     "metadata": {},
     "output_type": "execute_result"
    },
    {
     "data": {
      "image/png": "[encoded data removed]",
      "text/plain": [
       "<Figure size 432x288 with 1 Axes>"
      ]
     },
     "metadata": {
      "needs_background": "light"
     },
     "output_type": "display_data"
    }
   ],
   "source": [
    "ps = makePowerSpectrum(happy['EMG_zyg'], 0.0005)\n",
    "upper_ps = ps[ps['Frequency'] >= 55]\n",
    "\n",
    "plt.plot(upper_ps['Frequency'], upper_ps['Magnitude'])\n",
    "plt.title('Raw data')"
   ]
  },
  {
   "cell_type": "code",
   "execution_count": 230,
   "id": "80e61c13",
   "metadata": {},
   "outputs": [
    {
     "data": {
      "text/plain": [
       "Text(0.5, 1.0, 'Data with noise filtering')"
      ]
     },
     "execution_count": 230,
     "metadata": {},
     "output_type": "execute_result"
    },
    {
     "data": {
      "image/png": "[encoded data removed]",
      "text/plain": [
       "<Figure size 432x288 with 1 Axes>"
      ]
     },
     "metadata": {
      "needs_background": "light"
     },
     "output_type": "display_data"
    }
   ],
   "source": [
    "test = getLocalMax(list(upper_ps['Magnitude']))\n",
    "plt.plot(upper_ps['Frequency'], test)\n",
    "plt.title('Data with noise filtering')"
   ]
  },
  {
   "cell_type": "markdown",
   "id": "3519f3a0",
   "metadata": {},
   "source": [
    "Resources\n",
    "- Python MNE Library\n",
    "- https://www.geeksforgeeks.org/design-an-iir-notch-filter-to-denoise-signal-using-python/\n",
    "- https://jasmainak.github.io/mne-workshop-brown/preprocessing/filtering"
   ]
  },
  {
   "cell_type": "code",
   "execution_count": null,
   "id": "d0fbeeef",
   "metadata": {},
   "outputs": [],
   "source": []
  }
 ],
 "metadata": {
  "kernelspec": {
   "display_name": "Python 3 (ipykernel)",
   "language": "python",
   "name": "python3"
  },
  "language_info": {
   "codemirror_mode": {
    "name": "ipython",
    "version": 3
   },
   "file_extension": ".py",
   "mimetype": "text/x-python",
   "name": "python",
   "nbconvert_exporter": "python",
   "pygments_lexer": "ipython3",
   "version": "3.8.5"
  }
 },
 "nbformat": 4,
 "nbformat_minor": 5
}
