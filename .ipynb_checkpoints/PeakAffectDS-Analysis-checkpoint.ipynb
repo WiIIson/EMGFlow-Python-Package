{
 "cells": [
  {
   "cell_type": "markdown",
   "id": "c5482c61",
   "metadata": {},
   "source": [
    "# PeakAffectDS Analysis"
   ]
  },
  {
   "cell_type": "markdown",
   "id": "0d0d46a4",
   "metadata": {},
   "source": [
    "### Load Libraries\n",
    "\n",
    "Here we will load the relevant libraries needed to properly analyze the data. We will be using Pandas to load the data into dataframes."
   ]
  },
  {
   "cell_type": "code",
   "execution_count": 1,
   "id": "3b8fee6a",
   "metadata": {},
   "outputs": [],
   "source": [
    "import numpy as np\n",
    "import pandas as pd\n",
    "import matplotlib.pyplot as plt"
   ]
  },
  {
   "cell_type": "markdown",
   "id": "ebe32953",
   "metadata": {},
   "source": [
    "### Import Data"
   ]
  },
  {
   "cell_type": "code",
   "execution_count": 2,
   "id": "99911031",
   "metadata": {},
   "outputs": [
    {
     "name": "stdout",
     "output_type": "stream",
     "text": [
      "rows = 390568\n"
     ]
    },
    {
     "data": {
      "text/html": [
       "<div>\n",
       "<style scoped>\n",
       "    .dataframe tbody tr th:only-of-type {\n",
       "        vertical-align: middle;\n",
       "    }\n",
       "\n",
       "    .dataframe tbody tr th {\n",
       "        vertical-align: top;\n",
       "    }\n",
       "\n",
       "    .dataframe thead th {\n",
       "        text-align: right;\n",
       "    }\n",
       "</style>\n",
       "<table border=\"1\" class=\"dataframe\">\n",
       "  <thead>\n",
       "    <tr style=\"text-align: right;\">\n",
       "      <th></th>\n",
       "      <th>Time</th>\n",
       "      <th>EMG_zyg</th>\n",
       "      <th>EMG_cor</th>\n",
       "      <th>ECG</th>\n",
       "      <th>Respiration</th>\n",
       "      <th>Events</th>\n",
       "    </tr>\n",
       "  </thead>\n",
       "  <tbody>\n",
       "    <tr>\n",
       "      <th>0</th>\n",
       "      <td>0.0005</td>\n",
       "      <td>-0.048828</td>\n",
       "      <td>-0.057068</td>\n",
       "      <td>-0.170288</td>\n",
       "      <td>-0.065918</td>\n",
       "      <td>0.0</td>\n",
       "    </tr>\n",
       "    <tr>\n",
       "      <th>1</th>\n",
       "      <td>0.0010</td>\n",
       "      <td>-0.031433</td>\n",
       "      <td>-0.043030</td>\n",
       "      <td>-0.169067</td>\n",
       "      <td>-0.065308</td>\n",
       "      <td>0.0</td>\n",
       "    </tr>\n",
       "    <tr>\n",
       "      <th>2</th>\n",
       "      <td>0.0015</td>\n",
       "      <td>-0.002136</td>\n",
       "      <td>-0.024414</td>\n",
       "      <td>-0.169983</td>\n",
       "      <td>-0.065002</td>\n",
       "      <td>0.0</td>\n",
       "    </tr>\n",
       "    <tr>\n",
       "      <th>3</th>\n",
       "      <td>0.0020</td>\n",
       "      <td>0.030212</td>\n",
       "      <td>-0.003357</td>\n",
       "      <td>-0.172424</td>\n",
       "      <td>-0.064392</td>\n",
       "      <td>0.0</td>\n",
       "    </tr>\n",
       "    <tr>\n",
       "      <th>4</th>\n",
       "      <td>0.0025</td>\n",
       "      <td>0.040894</td>\n",
       "      <td>0.010681</td>\n",
       "      <td>-0.174866</td>\n",
       "      <td>-0.063782</td>\n",
       "      <td>0.0</td>\n",
       "    </tr>\n",
       "  </tbody>\n",
       "</table>\n",
       "</div>"
      ],
      "text/plain": [
       "     Time   EMG_zyg   EMG_cor       ECG  Respiration  Events\n",
       "0  0.0005 -0.048828 -0.057068 -0.170288    -0.065918     0.0\n",
       "1  0.0010 -0.031433 -0.043030 -0.169067    -0.065308     0.0\n",
       "2  0.0015 -0.002136 -0.024414 -0.169983    -0.065002     0.0\n",
       "3  0.0020  0.030212 -0.003357 -0.172424    -0.064392     0.0\n",
       "4  0.0025  0.040894  0.010681 -0.174866    -0.063782     0.0"
      ]
     },
     "execution_count": 2,
     "metadata": {},
     "output_type": "execute_result"
    }
   ],
   "source": [
    "happy = pd.read_csv('Data/Raw_PID_01-10/01/01-03-01.csv')\n",
    "print('rows =', len(happy.index))\n",
    "happy.head()"
   ]
  },
  {
   "cell_type": "markdown",
   "id": "aee44a9e",
   "metadata": {},
   "source": [
    "### Exploring The Data\n",
    "\n",
    "Now we can use this data to make a power spectrum graph. Here, I will make a graph of the `EMG_zyg` column using the `np.fft.fft()` function. Note that the resulting graph will be mirrored at `Frequency=0`, so we will remove all frequencies less than 0."
   ]
  },
  {
   "cell_type": "code",
   "execution_count": 48,
   "id": "340a4eeb",
   "metadata": {},
   "outputs": [],
   "source": [
    "#\n",
    "# Creates a dataframe of power spectrum information given a series of\n",
    "# voltage values and the time step between each value\n",
    "#\n",
    "\n",
    "def makePowerSpectrum(data, time_step):\n",
    "    mags = np.abs(np.fft.fft(data)) ** 2\n",
    "    freqs = np.fft.fftfreq(data.size, time_step)\n",
    "    idx = np.argsort(freqs)\n",
    "    ps = pd.DataFrame({'Frequency': freqs[idx], 'Magnitude': mags[idx]})\n",
    "    \n",
    "    # Remove mirrored frequencies\n",
    "    ps = ps[ps['Frequency'] >= 0]\n",
    "    \n",
    "    return ps"
   ]
  },
  {
   "cell_type": "code",
   "execution_count": 49,
   "id": "317f2f3a",
   "metadata": {},
   "outputs": [
    {
     "name": "stdout",
     "output_type": "stream",
     "text": [
      "rows = 195284\n"
     ]
    },
    {
     "data": {
      "text/html": [
       "<div>\n",
       "<style scoped>\n",
       "    .dataframe tbody tr th:only-of-type {\n",
       "        vertical-align: middle;\n",
       "    }\n",
       "\n",
       "    .dataframe tbody tr th {\n",
       "        vertical-align: top;\n",
       "    }\n",
       "\n",
       "    .dataframe thead th {\n",
       "        text-align: right;\n",
       "    }\n",
       "</style>\n",
       "<table border=\"1\" class=\"dataframe\">\n",
       "  <thead>\n",
       "    <tr style=\"text-align: right;\">\n",
       "      <th></th>\n",
       "      <th>Frequency</th>\n",
       "      <th>Magnitude</th>\n",
       "    </tr>\n",
       "  </thead>\n",
       "  <tbody>\n",
       "    <tr>\n",
       "      <th>195284</th>\n",
       "      <td>0.000000</td>\n",
       "      <td>78327.384986</td>\n",
       "    </tr>\n",
       "    <tr>\n",
       "      <th>195285</th>\n",
       "      <td>0.005121</td>\n",
       "      <td>166.548020</td>\n",
       "    </tr>\n",
       "    <tr>\n",
       "      <th>195286</th>\n",
       "      <td>0.010241</td>\n",
       "      <td>965.221469</td>\n",
       "    </tr>\n",
       "    <tr>\n",
       "      <th>195287</th>\n",
       "      <td>0.015362</td>\n",
       "      <td>495.377823</td>\n",
       "    </tr>\n",
       "    <tr>\n",
       "      <th>195288</th>\n",
       "      <td>0.020483</td>\n",
       "      <td>435.852112</td>\n",
       "    </tr>\n",
       "  </tbody>\n",
       "</table>\n",
       "</div>"
      ],
      "text/plain": [
       "        Frequency     Magnitude\n",
       "195284   0.000000  78327.384986\n",
       "195285   0.005121    166.548020\n",
       "195286   0.010241    965.221469\n",
       "195287   0.015362    495.377823\n",
       "195288   0.020483    435.852112"
      ]
     },
     "execution_count": 49,
     "metadata": {},
     "output_type": "execute_result"
    }
   ],
   "source": [
    "#\n",
    "# Looks at the shape of the data\n",
    "#\n",
    "\n",
    "ps = makePowerSpectrum(happy['EMG_zyg'], 0.0005)\n",
    "print('rows =', len(ps))\n",
    "ps.head()"
   ]
  },
  {
   "cell_type": "code",
   "execution_count": 50,
   "id": "2f187071",
   "metadata": {},
   "outputs": [
    {
     "data": {
      "text/plain": [
       "Text(0, 0.5, 'Magnitude')"
      ]
     },
     "execution_count": 50,
     "metadata": {},
     "output_type": "execute_result"
    },
    {
     "data": {
      "image/png": "[encoded data removed]",
      "text/plain": [
       "<Figure size 432x288 with 1 Axes>"
      ]
     },
     "metadata": {
      "needs_background": "light"
     },
     "output_type": "display_data"
    }
   ],
   "source": [
    "#\n",
    "# Plots the power spectrum for EMG_zyg\n",
    "#\n",
    "\n",
    "plt.plot(ps['Frequency'], ps['Magnitude'])\n",
    "plt.xlabel('Frequency')\n",
    "plt.ylabel('Magnitude')"
   ]
  },
  {
   "cell_type": "markdown",
   "id": "83288823",
   "metadata": {},
   "source": [
    "From this graph, we can see that there are massive spikes in the power at the 50 Hz range, as we might have expected. We also see from the shape of the data we have many entries, with each entry differing by a fraction of 1 Hz.\n",
    "\n",
    "Here, I will plot the frequencies that are higher than 50 to avoid the noise introduced at the 50 Hz range to be able to get a better picture of what is happening on the scale too small to see."
   ]
  },
  {
   "cell_type": "code",
   "execution_count": 51,
   "id": "8f9bc453",
   "metadata": {},
   "outputs": [
    {
     "data": {
      "text/plain": [
       "Text(0, 0.5, 'Magnitude')"
      ]
     },
     "execution_count": 51,
     "metadata": {},
     "output_type": "execute_result"
    },
    {
     "data": {
      "image/png": "[encoded data removed]",
      "text/plain": [
       "<Figure size 432x288 with 1 Axes>"
      ]
     },
     "metadata": {
      "needs_background": "light"
     },
     "output_type": "display_data"
    }
   ],
   "source": [
    "#\n",
    "# Ensuring the data still looks good despite noise\n",
    "#\n",
    "\n",
    "upper_ps = ps[ps['Frequency'] >= 55]\n",
    "\n",
    "plt.plot(upper_ps['Frequency'], upper_ps['Magnitude'])\n",
    "plt.xlabel('Frequency')\n",
    "plt.ylabel('Magnitude')"
   ]
  },
  {
   "cell_type": "markdown",
   "id": "e9ba3fb7",
   "metadata": {},
   "source": [
    "Now that we are not seeing the noise, we can see clearly that there are events happening that are triggering the EMG. Now we will check the other columns for noise:"
   ]
  },
  {
   "cell_type": "code",
   "execution_count": 52,
   "id": "855667e3",
   "metadata": {},
   "outputs": [
    {
     "data": {
      "text/plain": [
       "Text(0, 0.5, 'Magnitude')"
      ]
     },
     "execution_count": 52,
     "metadata": {},
     "output_type": "execute_result"
    },
    {
     "data": {
      "image/png": "[encoded data removed]",
      "text/plain": [
       "<Figure size 432x288 with 1 Axes>"
      ]
     },
     "metadata": {
      "needs_background": "light"
     },
     "output_type": "display_data"
    }
   ],
   "source": [
    "#\n",
    "# Plots the power spectrum for EMG_cor\n",
    "#\n",
    "\n",
    "ps = makePowerSpectrum(happy['EMG_cor'], 0.0005)\n",
    "plt.plot(ps['Frequency'], ps['Magnitude'])\n",
    "plt.xlabel('Frequency')\n",
    "plt.ylabel('Magnitude')"
   ]
  },
  {
   "cell_type": "code",
   "execution_count": 53,
   "id": "eef228c1",
   "metadata": {},
   "outputs": [
    {
     "data": {
      "text/plain": [
       "Text(0, 0.5, 'Magnitude')"
      ]
     },
     "execution_count": 53,
     "metadata": {},
     "output_type": "execute_result"
    },
    {
     "data": {
      "image/png": "[encoded data removed]",
      "text/plain": [
       "<Figure size 432x288 with 1 Axes>"
      ]
     },
     "metadata": {
      "needs_background": "light"
     },
     "output_type": "display_data"
    }
   ],
   "source": [
    "#\n",
    "# Plots the power spectrum for ECG\n",
    "#\n",
    "\n",
    "ps = makePowerSpectrum(happy['ECG'], 0.0005)\n",
    "plt.plot(ps['Frequency'], ps['Magnitude'])\n",
    "plt.xlabel('Frequency')\n",
    "plt.ylabel('Magnitude')"
   ]
  },
  {
   "cell_type": "code",
   "execution_count": 54,
   "id": "acdbcba1",
   "metadata": {},
   "outputs": [
    {
     "data": {
      "text/plain": [
       "Text(0, 0.5, 'Magnitude')"
      ]
     },
     "execution_count": 54,
     "metadata": {},
     "output_type": "execute_result"
    },
    {
     "data": {
      "image/png": "[encoded data removed]",
      "text/plain": [
       "<Figure size 432x288 with 1 Axes>"
      ]
     },
     "metadata": {
      "needs_background": "light"
     },
     "output_type": "display_data"
    }
   ],
   "source": [
    "#\n",
    "# Plots the power spectrum for Respirator\n",
    "#\n",
    "\n",
    "ps = makePowerSpectrum(happy['Respiration'], 0.0005)\n",
    "plt.plot(ps['Frequency'], ps['Magnitude'])\n",
    "plt.xlabel('Frequency')\n",
    "plt.ylabel('Magnitude')"
   ]
  },
  {
   "cell_type": "markdown",
   "id": "e00ed46f",
   "metadata": {},
   "source": [
    "### Filtering The Data\n",
    "\n",
    "Two things we can do to make a more useful representation of the power spectrum are:\n",
    "- Remove the frequencies less than 0 since they are redundant\n",
    "- Remove the noise at the 50 Hz mark"
   ]
  },
  {
   "cell_type": "code",
   "execution_count": null,
   "id": "76e5c2f5",
   "metadata": {},
   "outputs": [],
   "source": []
  }
 ],
 "metadata": {
  "kernelspec": {
   "display_name": "Python 3 (ipykernel)",
   "language": "python",
   "name": "python3"
  },
  "language_info": {
   "codemirror_mode": {
    "name": "ipython",
    "version": 3
   },
   "file_extension": ".py",
   "mimetype": "text/x-python",
   "name": "python",
   "nbconvert_exporter": "python",
   "pygments_lexer": "ipython3",
   "version": "3.8.5"
  }
 },
 "nbformat": 4,
 "nbformat_minor": 5
}
