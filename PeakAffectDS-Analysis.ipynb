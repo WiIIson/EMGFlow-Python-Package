{
 "cells": [
  {
   "cell_type": "markdown",
   "id": "9209d8b8",
   "metadata": {},
   "source": [
    "# PeakAffectDS Analysis"
   ]
  },
  {
   "cell_type": "markdown",
   "id": "76d9575a",
   "metadata": {},
   "source": [
    "### Load Libraries\n",
    "\n",
    "Here we will load the relevant libraries needed to properly analyze the data. We will be using Pandas to load the data into dataframes."
   ]
  },
  {
   "cell_type": "code",
   "execution_count": 16,
   "id": "0f5f267f",
   "metadata": {},
   "outputs": [],
   "source": [
    "import numpy as np\n",
    "import pandas as pd\n",
    "import matplotlib.pyplot as plt"
   ]
  },
  {
   "cell_type": "markdown",
   "id": "ab4ce934",
   "metadata": {},
   "source": [
    "### Import Data"
   ]
  },
  {
   "cell_type": "code",
   "execution_count": 17,
   "id": "d276834b",
   "metadata": {},
   "outputs": [
    {
     "name": "stdout",
     "output_type": "stream",
     "text": [
      "rows = 390568\n"
     ]
    },
    {
     "data": {
      "text/html": [
       "<div>\n",
       "<style scoped>\n",
       "    .dataframe tbody tr th:only-of-type {\n",
       "        vertical-align: middle;\n",
       "    }\n",
       "\n",
       "    .dataframe tbody tr th {\n",
       "        vertical-align: top;\n",
       "    }\n",
       "\n",
       "    .dataframe thead th {\n",
       "        text-align: right;\n",
       "    }\n",
       "</style>\n",
       "<table border=\"1\" class=\"dataframe\">\n",
       "  <thead>\n",
       "    <tr style=\"text-align: right;\">\n",
       "      <th></th>\n",
       "      <th>Time</th>\n",
       "      <th>EMG_zyg</th>\n",
       "      <th>EMG_cor</th>\n",
       "      <th>ECG</th>\n",
       "      <th>Respiration</th>\n",
       "      <th>Events</th>\n",
       "    </tr>\n",
       "  </thead>\n",
       "  <tbody>\n",
       "    <tr>\n",
       "      <th>0</th>\n",
       "      <td>0.0005</td>\n",
       "      <td>-0.048828</td>\n",
       "      <td>-0.057068</td>\n",
       "      <td>-0.170288</td>\n",
       "      <td>-0.065918</td>\n",
       "      <td>0.0</td>\n",
       "    </tr>\n",
       "    <tr>\n",
       "      <th>1</th>\n",
       "      <td>0.0010</td>\n",
       "      <td>-0.031433</td>\n",
       "      <td>-0.043030</td>\n",
       "      <td>-0.169067</td>\n",
       "      <td>-0.065308</td>\n",
       "      <td>0.0</td>\n",
       "    </tr>\n",
       "    <tr>\n",
       "      <th>2</th>\n",
       "      <td>0.0015</td>\n",
       "      <td>-0.002136</td>\n",
       "      <td>-0.024414</td>\n",
       "      <td>-0.169983</td>\n",
       "      <td>-0.065002</td>\n",
       "      <td>0.0</td>\n",
       "    </tr>\n",
       "    <tr>\n",
       "      <th>3</th>\n",
       "      <td>0.0020</td>\n",
       "      <td>0.030212</td>\n",
       "      <td>-0.003357</td>\n",
       "      <td>-0.172424</td>\n",
       "      <td>-0.064392</td>\n",
       "      <td>0.0</td>\n",
       "    </tr>\n",
       "    <tr>\n",
       "      <th>4</th>\n",
       "      <td>0.0025</td>\n",
       "      <td>0.040894</td>\n",
       "      <td>0.010681</td>\n",
       "      <td>-0.174866</td>\n",
       "      <td>-0.063782</td>\n",
       "      <td>0.0</td>\n",
       "    </tr>\n",
       "  </tbody>\n",
       "</table>\n",
       "</div>"
      ],
      "text/plain": [
       "     Time   EMG_zyg   EMG_cor       ECG  Respiration  Events\n",
       "0  0.0005 -0.048828 -0.057068 -0.170288    -0.065918     0.0\n",
       "1  0.0010 -0.031433 -0.043030 -0.169067    -0.065308     0.0\n",
       "2  0.0015 -0.002136 -0.024414 -0.169983    -0.065002     0.0\n",
       "3  0.0020  0.030212 -0.003357 -0.172424    -0.064392     0.0\n",
       "4  0.0025  0.040894  0.010681 -0.174866    -0.063782     0.0"
      ]
     },
     "execution_count": 17,
     "metadata": {},
     "output_type": "execute_result"
    }
   ],
   "source": [
    "happy = pd.read_csv('Data/Raw_PID_01-10/01/01-03-01.csv')\n",
    "print('rows =', len(happy.index))\n",
    "happy.head()"
   ]
  },
  {
   "cell_type": "markdown",
   "id": "bfe818c7",
   "metadata": {},
   "source": [
    "### Plotting Data\n",
    "\n",
    "Now we can use this data to make a power spectrum graph. Here, I will make a graph of the `EMG_zyg` column."
   ]
  },
  {
   "cell_type": "code",
   "execution_count": 21,
   "id": "b29ba0ec",
   "metadata": {},
   "outputs": [
    {
     "data": {
      "text/plain": [
       "[<matplotlib.lines.Line2D at 0x20324fa20a0>]"
      ]
     },
     "execution_count": 21,
     "metadata": {},
     "output_type": "execute_result"
    },
    {
     "data": {
      "image/png": "[encoded data removed]",
      "text/plain": [
       "<Figure size 432x288 with 1 Axes>"
      ]
     },
     "metadata": {
      "needs_background": "light"
     },
     "output_type": "display_data"
    }
   ],
   "source": [
    "time_step = 0.0005\n",
    "ps = np.abs(np.fft.fft(happy['EMG_zyg'])) ** 2\n",
    "freqs = np.fft.fftfreq(happy['EMG_zyg'].size, time_step)\n",
    "idx = np.argsort(freqs)\n",
    "\n",
    "plt.plot(freqs[idx], ps[idx])\n",
    "ply.xlabel()"
   ]
  },
  {
   "cell_type": "markdown",
   "id": "ae4eacd8",
   "metadata": {},
   "source": [
    "From this graph, we can see that there are massive spikes in the power at the 50 Hz range, as we might have expected"
   ]
  },
  {
   "cell_type": "code",
   "execution_count": null,
   "id": "a5edb944",
   "metadata": {},
   "outputs": [],
   "source": []
  }
 ],
 "metadata": {
  "kernelspec": {
   "display_name": "Python 3 (ipykernel)",
   "language": "python",
   "name": "python3"
  },
  "language_info": {
   "codemirror_mode": {
    "name": "ipython",
    "version": 3
   },
   "file_extension": ".py",
   "mimetype": "text/x-python",
   "name": "python",
   "nbconvert_exporter": "python",
   "pygments_lexer": "ipython3",
   "version": "3.8.5"
  }
 },
 "nbformat": 4,
 "nbformat_minor": 5
}
