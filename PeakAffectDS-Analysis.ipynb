{
 "cells": [
  {
   "cell_type": "markdown",
   "id": "c5482c61",
   "metadata": {},
   "source": [
    "# PeakAffectDS Analysis"
   ]
  },
  {
   "cell_type": "markdown",
   "id": "0d0d46a4",
   "metadata": {},
   "source": [
    "### Load Libraries\n",
    "\n",
    "Here the relevant libraries needed to properly analyze the data are loaded. The Pandas library is used to load the data into dataframes."
   ]
  },
  {
   "cell_type": "code",
   "execution_count": 128,
   "id": "3b8fee6a",
   "metadata": {},
   "outputs": [],
   "source": [
    "import scipy\n",
    "import numpy as np\n",
    "import pandas as pd\n",
    "import matplotlib.pyplot as plt"
   ]
  },
  {
   "cell_type": "markdown",
   "id": "ebe32953",
   "metadata": {},
   "source": [
    "### Import Data"
   ]
  },
  {
   "cell_type": "code",
   "execution_count": 2,
   "id": "99911031",
   "metadata": {},
   "outputs": [
    {
     "name": "stdout",
     "output_type": "stream",
     "text": [
      "rows = 390568\n"
     ]
    },
    {
     "data": {
      "text/html": [
       "<div>\n",
       "<style scoped>\n",
       "    .dataframe tbody tr th:only-of-type {\n",
       "        vertical-align: middle;\n",
       "    }\n",
       "\n",
       "    .dataframe tbody tr th {\n",
       "        vertical-align: top;\n",
       "    }\n",
       "\n",
       "    .dataframe thead th {\n",
       "        text-align: right;\n",
       "    }\n",
       "</style>\n",
       "<table border=\"1\" class=\"dataframe\">\n",
       "  <thead>\n",
       "    <tr style=\"text-align: right;\">\n",
       "      <th></th>\n",
       "      <th>Time</th>\n",
       "      <th>EMG_zyg</th>\n",
       "      <th>EMG_cor</th>\n",
       "      <th>ECG</th>\n",
       "      <th>Respiration</th>\n",
       "      <th>Events</th>\n",
       "    </tr>\n",
       "  </thead>\n",
       "  <tbody>\n",
       "    <tr>\n",
       "      <th>0</th>\n",
       "      <td>0.0005</td>\n",
       "      <td>-0.048828</td>\n",
       "      <td>-0.057068</td>\n",
       "      <td>-0.170288</td>\n",
       "      <td>-0.065918</td>\n",
       "      <td>0.0</td>\n",
       "    </tr>\n",
       "    <tr>\n",
       "      <th>1</th>\n",
       "      <td>0.0010</td>\n",
       "      <td>-0.031433</td>\n",
       "      <td>-0.043030</td>\n",
       "      <td>-0.169067</td>\n",
       "      <td>-0.065308</td>\n",
       "      <td>0.0</td>\n",
       "    </tr>\n",
       "    <tr>\n",
       "      <th>2</th>\n",
       "      <td>0.0015</td>\n",
       "      <td>-0.002136</td>\n",
       "      <td>-0.024414</td>\n",
       "      <td>-0.169983</td>\n",
       "      <td>-0.065002</td>\n",
       "      <td>0.0</td>\n",
       "    </tr>\n",
       "    <tr>\n",
       "      <th>3</th>\n",
       "      <td>0.0020</td>\n",
       "      <td>0.030212</td>\n",
       "      <td>-0.003357</td>\n",
       "      <td>-0.172424</td>\n",
       "      <td>-0.064392</td>\n",
       "      <td>0.0</td>\n",
       "    </tr>\n",
       "    <tr>\n",
       "      <th>4</th>\n",
       "      <td>0.0025</td>\n",
       "      <td>0.040894</td>\n",
       "      <td>0.010681</td>\n",
       "      <td>-0.174866</td>\n",
       "      <td>-0.063782</td>\n",
       "      <td>0.0</td>\n",
       "    </tr>\n",
       "  </tbody>\n",
       "</table>\n",
       "</div>"
      ],
      "text/plain": [
       "     Time   EMG_zyg   EMG_cor       ECG  Respiration  Events\n",
       "0  0.0005 -0.048828 -0.057068 -0.170288    -0.065918     0.0\n",
       "1  0.0010 -0.031433 -0.043030 -0.169067    -0.065308     0.0\n",
       "2  0.0015 -0.002136 -0.024414 -0.169983    -0.065002     0.0\n",
       "3  0.0020  0.030212 -0.003357 -0.172424    -0.064392     0.0\n",
       "4  0.0025  0.040894  0.010681 -0.174866    -0.063782     0.0"
      ]
     },
     "execution_count": 2,
     "metadata": {},
     "output_type": "execute_result"
    }
   ],
   "source": [
    "happy = pd.read_csv('Data/Raw_PID_01-10/01/01-03-01.csv')\n",
    "print('rows =', len(happy.index))\n",
    "happy.head()"
   ]
  },
  {
   "cell_type": "markdown",
   "id": "aee44a9e",
   "metadata": {},
   "source": [
    "### Exploring The Data\n",
    "\n",
    "Now the data can be used to make a power spectrum graph. Here, a graph is made using the `np.fft.fft()` function. Note that the resulting graph will be mirrored at `Frequency=0`, all frequencies less than 0 are removed."
   ]
  },
  {
   "cell_type": "code",
   "execution_count": 63,
   "id": "340a4eeb",
   "metadata": {},
   "outputs": [],
   "source": [
    "#\n",
    "# Creates a dataframe of power spectrum information given a series of\n",
    "# voltage values and the time step between each value\n",
    "#\n",
    "\n",
    "def makePowerSpectrum(data, time_step):\n",
    "    mags = np.abs(np.fft.fft(data)) ** 2\n",
    "    freqs = np.fft.fftfreq(data.size, time_step)\n",
    "    idx = np.argsort(freqs)\n",
    "    ps = pd.DataFrame({'Frequency': freqs[idx], 'Magnitude': mags[idx]})\n",
    "    \n",
    "    # Remove mirrored frequencies\n",
    "    ps = ps[ps['Frequency'] >= 0]\n",
    "    \n",
    "    return ps"
   ]
  },
  {
   "cell_type": "code",
   "execution_count": 64,
   "id": "317f2f3a",
   "metadata": {},
   "outputs": [
    {
     "name": "stdout",
     "output_type": "stream",
     "text": [
      "rows = 195284\n"
     ]
    },
    {
     "data": {
      "text/html": [
       "<div>\n",
       "<style scoped>\n",
       "    .dataframe tbody tr th:only-of-type {\n",
       "        vertical-align: middle;\n",
       "    }\n",
       "\n",
       "    .dataframe tbody tr th {\n",
       "        vertical-align: top;\n",
       "    }\n",
       "\n",
       "    .dataframe thead th {\n",
       "        text-align: right;\n",
       "    }\n",
       "</style>\n",
       "<table border=\"1\" class=\"dataframe\">\n",
       "  <thead>\n",
       "    <tr style=\"text-align: right;\">\n",
       "      <th></th>\n",
       "      <th>Frequency</th>\n",
       "      <th>Magnitude</th>\n",
       "    </tr>\n",
       "  </thead>\n",
       "  <tbody>\n",
       "    <tr>\n",
       "      <th>195284</th>\n",
       "      <td>0.000000</td>\n",
       "      <td>78327.384986</td>\n",
       "    </tr>\n",
       "    <tr>\n",
       "      <th>195285</th>\n",
       "      <td>0.005121</td>\n",
       "      <td>166.548020</td>\n",
       "    </tr>\n",
       "    <tr>\n",
       "      <th>195286</th>\n",
       "      <td>0.010241</td>\n",
       "      <td>965.221469</td>\n",
       "    </tr>\n",
       "    <tr>\n",
       "      <th>195287</th>\n",
       "      <td>0.015362</td>\n",
       "      <td>495.377823</td>\n",
       "    </tr>\n",
       "    <tr>\n",
       "      <th>195288</th>\n",
       "      <td>0.020483</td>\n",
       "      <td>435.852112</td>\n",
       "    </tr>\n",
       "  </tbody>\n",
       "</table>\n",
       "</div>"
      ],
      "text/plain": [
       "        Frequency     Magnitude\n",
       "195284   0.000000  78327.384986\n",
       "195285   0.005121    166.548020\n",
       "195286   0.010241    965.221469\n",
       "195287   0.015362    495.377823\n",
       "195288   0.020483    435.852112"
      ]
     },
     "execution_count": 64,
     "metadata": {},
     "output_type": "execute_result"
    }
   ],
   "source": [
    "#\n",
    "# Looks at the shape of the data\n",
    "#\n",
    "\n",
    "ps = makePowerSpectrum(happy['EMG_zyg'], 0.0005)\n",
    "print('rows =', len(ps))\n",
    "ps.head()"
   ]
  },
  {
   "cell_type": "code",
   "execution_count": 65,
   "id": "8421f698",
   "metadata": {},
   "outputs": [
    {
     "data": {
      "text/plain": [
       "Text(0.5, 1.0, 'Power Spectrum of EMG_zyg')"
      ]
     },
     "execution_count": 65,
     "metadata": {},
     "output_type": "execute_result"
    },
    {
     "data": {
      "image/png": "[encoded data removed]",
      "text/plain": [
       "<Figure size 432x288 with 1 Axes>"
      ]
     },
     "metadata": {
      "needs_background": "light"
     },
     "output_type": "display_data"
    }
   ],
   "source": [
    "#\n",
    "# Plots the power spectrum for EMG_zyg\n",
    "#\n",
    "\n",
    "plt.plot(ps['Frequency'], ps['Magnitude'])\n",
    "plt.xlabel('Frequency')\n",
    "plt.ylabel('Magnitude')\n",
    "plt.title('Power Spectrum of EMG_zyg')"
   ]
  },
  {
   "cell_type": "markdown",
   "id": "83288823",
   "metadata": {},
   "source": [
    "This graph shows that there are massive spikes in the power at the 50 Hz range, as expected. This is being caused by noise introduced by the device's power source during the recordings.\n",
    "\n",
    "The shape of the data shows that there are many more rows than frequencies. This means each entry does not vary by 1 Hz, but rather a fraction of 1 Hz.\n",
    "\n",
    "In the next graph, the frequencies greater than 55 are plotted to show a better sense of what the graph looks like while avoiding the noise introduced:"
   ]
  },
  {
   "cell_type": "code",
   "execution_count": 66,
   "id": "8f9bc453",
   "metadata": {},
   "outputs": [
    {
     "data": {
      "text/plain": [
       "Text(0, 0.5, 'Magnitude')"
      ]
     },
     "execution_count": 66,
     "metadata": {},
     "output_type": "execute_result"
    },
    {
     "data": {
      "image/png": "[encoded data removed]",
      "text/plain": [
       "<Figure size 432x288 with 1 Axes>"
      ]
     },
     "metadata": {
      "needs_background": "light"
     },
     "output_type": "display_data"
    }
   ],
   "source": [
    "#\n",
    "# Ensuring the data still looks good despite noise\n",
    "#\n",
    "\n",
    "upper_ps = ps[ps['Frequency'] >= 55]\n",
    "\n",
    "plt.plot(upper_ps['Frequency'], upper_ps['Magnitude'])\n",
    "plt.xlabel('Frequency')\n",
    "plt.ylabel('Magnitude')"
   ]
  },
  {
   "cell_type": "markdown",
   "id": "0872dca1",
   "metadata": {},
   "source": [
    "Now that the noise is not shown, the key frequencies affecting the EMG can be seen, validating that the function works properly. The following graphs show the power spectrum graphs for the remaining columns: `EMG_cor`, `EMC` and `Respiration`."
   ]
  },
  {
   "cell_type": "code",
   "execution_count": 67,
   "id": "9c9dbb9f",
   "metadata": {},
   "outputs": [
    {
     "data": {
      "text/plain": [
       "Text(0.5, 1.0, 'Power Spectrum of EMG_cor')"
      ]
     },
     "execution_count": 67,
     "metadata": {},
     "output_type": "execute_result"
    },
    {
     "data": {
      "image/png": "[encoded data removed]",
      "text/plain": [
       "<Figure size 432x288 with 1 Axes>"
      ]
     },
     "metadata": {
      "needs_background": "light"
     },
     "output_type": "display_data"
    }
   ],
   "source": [
    "#\n",
    "# Plots the power spectrum for EMG_cor\n",
    "#\n",
    "\n",
    "ps = makePowerSpectrum(happy['EMG_cor'], 0.0005)\n",
    "plt.plot(ps['Frequency'], ps['Magnitude'])\n",
    "plt.xlabel('Frequency')\n",
    "plt.ylabel('Magnitude')\n",
    "plt.title('Power Spectrum of EMG_cor')"
   ]
  },
  {
   "cell_type": "code",
   "execution_count": 68,
   "id": "ba5f0d2d",
   "metadata": {},
   "outputs": [
    {
     "data": {
      "text/plain": [
       "Text(0.5, 1.0, 'Power Spectrum of ECG')"
      ]
     },
     "execution_count": 68,
     "metadata": {},
     "output_type": "execute_result"
    },
    {
     "data": {
      "image/png": "[encoded data removed]",
      "text/plain": [
       "<Figure size 432x288 with 1 Axes>"
      ]
     },
     "metadata": {
      "needs_background": "light"
     },
     "output_type": "display_data"
    }
   ],
   "source": [
    "#\n",
    "# Plots the power spectrum for ECG\n",
    "#\n",
    "\n",
    "ps = makePowerSpectrum(happy['ECG'], 0.0005)\n",
    "plt.plot(ps['Frequency'], ps['Magnitude'])\n",
    "plt.xlabel('Frequency')\n",
    "plt.ylabel('Magnitude')\n",
    "plt.title('Power Spectrum of ECG')"
   ]
  },
  {
   "cell_type": "code",
   "execution_count": 69,
   "id": "192a94c0",
   "metadata": {},
   "outputs": [
    {
     "data": {
      "text/plain": [
       "Text(0.5, 1.0, 'Power Spectrum of Respirator')"
      ]
     },
     "execution_count": 69,
     "metadata": {},
     "output_type": "execute_result"
    },
    {
     "data": {
      "image/png": "[encoded data removed]",
      "text/plain": [
       "<Figure size 432x288 with 1 Axes>"
      ]
     },
     "metadata": {
      "needs_background": "light"
     },
     "output_type": "display_data"
    }
   ],
   "source": [
    "#\n",
    "# Plots the power spectrum for Respirator\n",
    "#\n",
    "\n",
    "ps = makePowerSpectrum(happy['Respiration'], 0.0005)\n",
    "plt.plot(ps['Frequency'], ps['Magnitude'])\n",
    "plt.xlabel('Frequency')\n",
    "plt.ylabel('Magnitude')\n",
    "plt.title('Power Spectrum of Respirator')"
   ]
  },
  {
   "cell_type": "markdown",
   "id": "41051669",
   "metadata": {},
   "source": [
    "### Validating findings\n",
    "\n",
    "The following code is to check if the other data available looks the same:"
   ]
  },
  {
   "cell_type": "code",
   "execution_count": 72,
   "id": "a052bdc3",
   "metadata": {},
   "outputs": [
    {
     "name": "stdout",
     "output_type": "stream",
     "text": [
      "rows = 740037\n"
     ]
    },
    {
     "data": {
      "text/html": [
       "<div>\n",
       "<style scoped>\n",
       "    .dataframe tbody tr th:only-of-type {\n",
       "        vertical-align: middle;\n",
       "    }\n",
       "\n",
       "    .dataframe tbody tr th {\n",
       "        vertical-align: top;\n",
       "    }\n",
       "\n",
       "    .dataframe thead th {\n",
       "        text-align: right;\n",
       "    }\n",
       "</style>\n",
       "<table border=\"1\" class=\"dataframe\">\n",
       "  <thead>\n",
       "    <tr style=\"text-align: right;\">\n",
       "      <th></th>\n",
       "      <th>Time</th>\n",
       "      <th>EMG_zyg</th>\n",
       "      <th>EMG_cor</th>\n",
       "      <th>ECG</th>\n",
       "      <th>Respiration</th>\n",
       "      <th>Events</th>\n",
       "    </tr>\n",
       "  </thead>\n",
       "  <tbody>\n",
       "    <tr>\n",
       "      <th>0</th>\n",
       "      <td>0.0005</td>\n",
       "      <td>0.038147</td>\n",
       "      <td>0.025330</td>\n",
       "      <td>0.236511</td>\n",
       "      <td>-0.601196</td>\n",
       "      <td>0.0</td>\n",
       "    </tr>\n",
       "    <tr>\n",
       "      <th>1</th>\n",
       "      <td>0.0010</td>\n",
       "      <td>0.033569</td>\n",
       "      <td>0.019226</td>\n",
       "      <td>0.238342</td>\n",
       "      <td>-0.601196</td>\n",
       "      <td>0.0</td>\n",
       "    </tr>\n",
       "    <tr>\n",
       "      <th>2</th>\n",
       "      <td>0.0015</td>\n",
       "      <td>0.034485</td>\n",
       "      <td>0.014343</td>\n",
       "      <td>0.240479</td>\n",
       "      <td>-0.601196</td>\n",
       "      <td>0.0</td>\n",
       "    </tr>\n",
       "    <tr>\n",
       "      <th>3</th>\n",
       "      <td>0.0020</td>\n",
       "      <td>0.052185</td>\n",
       "      <td>0.019836</td>\n",
       "      <td>0.242615</td>\n",
       "      <td>-0.601196</td>\n",
       "      <td>0.0</td>\n",
       "    </tr>\n",
       "    <tr>\n",
       "      <th>4</th>\n",
       "      <td>0.0025</td>\n",
       "      <td>0.049133</td>\n",
       "      <td>0.016479</td>\n",
       "      <td>0.244751</td>\n",
       "      <td>-0.601196</td>\n",
       "      <td>0.0</td>\n",
       "    </tr>\n",
       "  </tbody>\n",
       "</table>\n",
       "</div>"
      ],
      "text/plain": [
       "     Time   EMG_zyg   EMG_cor       ECG  Respiration  Events\n",
       "0  0.0005  0.038147  0.025330  0.236511    -0.601196     0.0\n",
       "1  0.0010  0.033569  0.019226  0.238342    -0.601196     0.0\n",
       "2  0.0015  0.034485  0.014343  0.240479    -0.601196     0.0\n",
       "3  0.0020  0.052185  0.019836  0.242615    -0.601196     0.0\n",
       "4  0.0025  0.049133  0.016479  0.244751    -0.601196     0.0"
      ]
     },
     "execution_count": 72,
     "metadata": {},
     "output_type": "execute_result"
    }
   ],
   "source": [
    "happy2 = pd.read_csv('Data/Raw_PID_01-10/02/02-03-02.csv')\n",
    "print('rows =', len(happy2.index))\n",
    "happy2.head()"
   ]
  },
  {
   "cell_type": "code",
   "execution_count": 73,
   "id": "6ca2bc14",
   "metadata": {},
   "outputs": [
    {
     "data": {
      "text/plain": [
       "Text(0.5, 1.0, 'Power Spectrum of ECG')"
      ]
     },
     "execution_count": 73,
     "metadata": {},
     "output_type": "execute_result"
    },
    {
     "data": {
      "image/png": "[encoded data removed]",
      "text/plain": [
       "<Figure size 432x288 with 1 Axes>"
      ]
     },
     "metadata": {
      "needs_background": "light"
     },
     "output_type": "display_data"
    }
   ],
   "source": [
    "ps = makePowerSpectrum(happy2['EMG_zyg'], 0.0005)\n",
    "plt.plot(ps['Frequency'], ps['Magnitude'])\n",
    "plt.xlabel('Frequency')\n",
    "plt.ylabel('Magnitude')\n",
    "plt.title('Power Spectrum of ECG')"
   ]
  },
  {
   "cell_type": "code",
   "execution_count": 142,
   "id": "953f0f68",
   "metadata": {},
   "outputs": [
    {
     "data": {
      "text/plain": [
       "Text(0, 0.5, 'Magnitude')"
      ]
     },
     "execution_count": 142,
     "metadata": {},
     "output_type": "execute_result"
    },
    {
     "data": {
      "image/png": "[encoded data removed]",
      "text/plain": [
       "<Figure size 432x288 with 1 Axes>"
      ]
     },
     "metadata": {
      "needs_background": "light"
     },
     "output_type": "display_data"
    }
   ],
   "source": [
    "upper_ps = ps[ps['Frequency'] >= 55]\n",
    "\n",
    "plt.plot(upper_ps['Frequency'], upper_ps['Magnitude'])\n",
    "plt.xlabel('Frequency')\n",
    "plt.ylabel('Magnitude')"
   ]
  },
  {
   "cell_type": "markdown",
   "id": "c9c407b6",
   "metadata": {},
   "source": [
    "### Removing Noise\n",
    "\n",
    "The resulting power spectrum reveals that there is noise in the 50 Hz range that needs to be removed. This can be taken care of using a notch filter using Scipy."
   ]
  },
  {
   "cell_type": "code",
   "execution_count": 192,
   "id": "862a9db4",
   "metadata": {},
   "outputs": [
    {
     "name": "stdout",
     "output_type": "stream",
     "text": [
      "465.6971534565705\n"
     ]
    },
    {
     "data": {
      "text/plain": [
       "[<matplotlib.lines.Line2D at 0x21b12492be0>]"
      ]
     },
     "execution_count": 192,
     "metadata": {},
     "output_type": "execute_result"
    },
    {
     "data": {
      "image/png": "[encoded data removed]",
      "text/plain": [
       "<Figure size 432x288 with 1 Axes>"
      ]
     },
     "metadata": {
      "needs_background": "light"
     },
     "output_type": "display_data"
    }
   ],
   "source": [
    "#\n",
    "# Experimental code to get the local maximums of the data\n",
    "#\n",
    "\n",
    "def getLocalMax(vals, r=10000):\n",
    "    # A value is a local max if it is:\n",
    "    # 1. Larger than the mean value\n",
    "    # 2. Larger than the nearby values around it\n",
    "    suppressed = np.copy(vals)\n",
    "    val_mean = np.mean(vals)\n",
    "    print(24*val_mean)\n",
    "    \n",
    "    for i in range(len(vals)):\n",
    "        if vals[i] > val_mean * 25:\n",
    "            val = vals[i]\n",
    "            left = max(i - r, 0)\n",
    "            right = min(i + r, len(vals) - 1)\n",
    "            \n",
    "            for k in range(left, right + 1):\n",
    "                if k != i and vals[k] > val:\n",
    "                    suppressed[i] = 0\n",
    "                    #print(\"nearby max\")\n",
    "                    break\n",
    "                        \n",
    "        else:\n",
    "            suppressed[i] = 0\n",
    "    return suppressed\n",
    "                    \n",
    "test = getLocalMax(list(upper_ps['Magnitude']))\n",
    "plt.plot(upper_ps['Frequency'], test)"
   ]
  },
  {
   "cell_type": "code",
   "execution_count": 196,
   "id": "e3a212db",
   "metadata": {},
   "outputs": [
    {
     "data": {
      "text/html": [
       "<div>\n",
       "<style scoped>\n",
       "    .dataframe tbody tr th:only-of-type {\n",
       "        vertical-align: middle;\n",
       "    }\n",
       "\n",
       "    .dataframe tbody tr th {\n",
       "        vertical-align: top;\n",
       "    }\n",
       "\n",
       "    .dataframe thead th {\n",
       "        text-align: right;\n",
       "    }\n",
       "</style>\n",
       "<table border=\"1\" class=\"dataframe\">\n",
       "  <thead>\n",
       "    <tr style=\"text-align: right;\">\n",
       "      <th></th>\n",
       "      <th>Frequency</th>\n",
       "      <th>Magnitude</th>\n",
       "    </tr>\n",
       "  </thead>\n",
       "  <tbody>\n",
       "    <tr>\n",
       "      <th>425530</th>\n",
       "      <td>150.024931</td>\n",
       "      <td>19793.521314</td>\n",
       "    </tr>\n",
       "    <tr>\n",
       "      <th>462566</th>\n",
       "      <td>250.117224</td>\n",
       "      <td>3854.008190</td>\n",
       "    </tr>\n",
       "    <tr>\n",
       "      <th>499586</th>\n",
       "      <td>350.166275</td>\n",
       "      <td>31569.726248</td>\n",
       "    </tr>\n",
       "    <tr>\n",
       "      <th>536580</th>\n",
       "      <td>450.145060</td>\n",
       "      <td>7292.898312</td>\n",
       "    </tr>\n",
       "    <tr>\n",
       "      <th>573609</th>\n",
       "      <td>550.218435</td>\n",
       "      <td>11398.571671</td>\n",
       "    </tr>\n",
       "  </tbody>\n",
       "</table>\n",
       "</div>"
      ],
      "text/plain": [
       "         Frequency     Magnitude\n",
       "425530  150.024931  19793.521314\n",
       "462566  250.117224   3854.008190\n",
       "499586  350.166275  31569.726248\n",
       "536580  450.145060   7292.898312\n",
       "573609  550.218435  11398.571671"
      ]
     },
     "execution_count": 196,
     "metadata": {},
     "output_type": "execute_result"
    }
   ],
   "source": [
    "test_ps = upper_ps[test > 0]\n",
    "test_ps.head()"
   ]
  },
  {
   "cell_type": "code",
   "execution_count": 111,
   "id": "6a3e48ed",
   "metadata": {},
   "outputs": [
    {
     "name": "stdout",
     "output_type": "stream",
     "text": [
      "0\n",
      "1\n",
      "2\n",
      "\n",
      "0\n",
      "1\n",
      "2\n",
      "3\n",
      "\n",
      "0\n",
      "1\n",
      "2\n",
      "3\n",
      "4\n",
      "\n",
      "1\n",
      "2\n",
      "3\n",
      "4\n",
      "5\n",
      "\n",
      "2\n",
      "3\n",
      "4\n",
      "5\n",
      "6\n",
      "\n",
      "3\n",
      "4\n",
      "5\n",
      "6\n",
      "7\n",
      "\n",
      "4\n",
      "5\n",
      "6\n",
      "7\n",
      "8\n",
      "\n",
      "5\n",
      "6\n",
      "7\n",
      "8\n",
      "9\n",
      "\n",
      "6\n",
      "7\n",
      "8\n",
      "9\n",
      "10\n",
      "\n",
      "7\n",
      "8\n",
      "9\n",
      "10\n",
      "\n"
     ]
    }
   ],
   "source": [
    "for i in range(10):\n",
    "    for j in range(5):\n",
    "        k = i - 2 + j\n",
    "        if k >= 0 and k <= 10:\n",
    "            print(i - 2 + j)\n",
    "    print()"
   ]
  },
  {
   "cell_type": "markdown",
   "id": "a56a1c54",
   "metadata": {},
   "source": [
    "Resources\n",
    "- https://www.geeksforgeeks.org/design-an-iir-notch-filter-to-denoise-signal-using-python/"
   ]
  },
  {
   "cell_type": "code",
   "execution_count": null,
   "id": "6df10bd0",
   "metadata": {},
   "outputs": [],
   "source": []
  }
 ],
 "metadata": {
  "kernelspec": {
   "display_name": "Python 3 (ipykernel)",
   "language": "python",
   "name": "python3"
  },
  "language_info": {
   "codemirror_mode": {
    "name": "ipython",
    "version": 3
   },
   "file_extension": ".py",
   "mimetype": "text/x-python",
   "name": "python",
   "nbconvert_exporter": "python",
   "pygments_lexer": "ipython3",
   "version": "3.8.5"
  }
 },
 "nbformat": 4,
 "nbformat_minor": 5
}
