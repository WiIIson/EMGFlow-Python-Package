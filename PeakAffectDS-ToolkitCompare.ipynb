{
 "cells": [
  {
   "cell_type": "markdown",
   "id": "ffa462d0",
   "metadata": {},
   "source": [
    "# Peak Affect DS Pipeline\n",
    "\n",
    "## Introduction\n",
    "\n",
    "This file contains the complete pipeline for the analysis and feature extraction of the Peak Affect data set."
   ]
  },
  {
   "cell_type": "markdown",
   "id": "9160dbea",
   "metadata": {},
   "source": [
    "## Data Cleaning\n",
    "\n",
    "In this section, the data is loaded and cleaned to remove noise"
   ]
  },
  {
   "cell_type": "markdown",
   "id": "b6a62c4a",
   "metadata": {},
   "source": [
    "### Load libraries"
   ]
  },
  {
   "cell_type": "code",
   "execution_count": null,
   "id": "73eb69b6",
   "metadata": {},
   "outputs": [],
   "source": [
    "import scipy.signal\n",
    "import pandas as pd\n",
    "import os\n",
    "import re"
   ]
  },
  {
   "cell_type": "markdown",
   "id": "09c93945",
   "metadata": {},
   "source": [
    "### Define functions"
   ]
  },
  {
   "cell_type": "code",
   "execution_count": null,
   "id": "b8c83a38",
   "metadata": {},
   "outputs": [],
   "source": [
    "# Apply a single notch filter to input data\n",
    "#\n",
    "# data              Data notch filter is being applied to\n",
    "# freq              Frequency to apply notch filter to\n",
    "# Q                 Q-factor of notch filter\n",
    "# sampling_rate     Sampling rate of data\n",
    "def ApplyNotchFilter(data, freq, Q, sampling_rate):\n",
    "    \n",
    "    # Normalize filtering frequency\n",
    "    nyq_freq = sampling_rate / 2\n",
    "    norm_freq = freq / nyq_freq\n",
    "    \n",
    "    # Use scipy notch filter using normalized frequency\n",
    "    b, a = scipy.signal.iirnotch(norm_freq, Q)\n",
    "    filtered_data = scipy.signal.lfilter(b, a, data)\n",
    "    \n",
    "    return filtered_data\n",
    "\n",
    "#\n",
    "# =============================================================================\n",
    "#\n",
    "\n",
    "# Applies a sequence of notch filters for given frequencies and Q-factors to a\n",
    "# column of the provided data\n",
    "#\n",
    "# data              Data notch filter is being applied to\n",
    "# col               Column of [data] notch filter is being applied to\n",
    "# freq              Frequency to apply notch filter to\n",
    "# Q                 Q-factor of notch filter\n",
    "# sampling_rate     Sampling rate of data   \n",
    "def ApplyNotchFilters(data, col, Hzs, Qs, sampling_rate):\n",
    "    \n",
    "    if len(Hzs) == len(Qs):\n",
    "        for i in range(len(Qs)):\n",
    "            data[col] = ApplyNotchFilter(data[col], Hzs[i], Qs[i], sampling_rate)\n",
    "        return data\n",
    "    else:\n",
    "        raise Exception(\"Error: Provided\", len(Hzs), \"frequencies and\", len(Qs), \"Q-factors.\")\n",
    "\n",
    "#\n",
    "# =============================================================================\n",
    "#\n",
    "\n",
    "# Applies notch filters to provided raw data and saves resulting cleaned data\n",
    "#\n",
    "# in_path           Filepath for raw data folder\n",
    "# out_path          Filepath for clean data folder\n",
    "# sampling_rate     Sampling rate of files\n",
    "# Hzs               Frequencies to apply notch filters to\n",
    "# Qs                Q-factors of notch filters\n",
    "# special_cases     Additional optional special case notch filters\n",
    "def FilterSignals(in_path, out_path, sampling_rate, Hzs, Qs, special_cases=None):\n",
    "\n",
    "    # Iterate through each RAW folder\n",
    "    for raw in os.listdir(in_data):\n",
    "        if re.search('PID_[0-9]{2}-[0-9]{2}$', raw):\n",
    "            in_raw = in_path + raw + '/'\n",
    "            out_raw = out_path + raw + '/'\n",
    "            \n",
    "            # Iterate through each person folder\n",
    "            for person in os.listdir(in_raw):\n",
    "                print(\"Writing files for subject\", person, \"...\")\n",
    "                in_person = in_raw + person + '/'\n",
    "                out_person = out_raw + person\n",
    "                \n",
    "                # Iterate through each phsiological data file\n",
    "                for file in os.listdir(in_person):\n",
    "                    in_file = in_person + file\n",
    "                    out_file = out_person + '/' + file\n",
    "                    \n",
    "                    # Get data and apply notch filter\n",
    "                    data = pd.read_csv(in_file)\n",
    "                    for i in range(len(Qs)):\n",
    "                        data['EMG_zyg'] = ApplyNotchFilter(data['EMG_zyg'], Hzs[i], Qs[i], sampling_rate)\n",
    "                        data['EMG_cor'] = ApplyNotchFilter(data['EMG_cor'], Hzs[i], Qs[i], sampling_rate)\n",
    "                    \n",
    "                    # Apply 'special cases' notch filters\n",
    "                    if special_cases is not None:\n",
    "                        if person in special_cases.keys():\n",
    "                            (p_Hzs, p_Qs) = special_cases[person]\n",
    "                            data = ApplyNotchFilters(data, 'EMG_zyg', p_Hzs, p_Qs, sampling_rate)\n",
    "                            data = ApplyNotchFilters(data, 'EMG_cor', p_Hzs, p_Qs, sampling_rate)\n",
    "                    \n",
    "                    # Save results\n",
    "                    os.makedirs(out_person, exist_ok=True)    # Create subirectories if they do not exist\n",
    "                    data.to_csv(out_file)                     # Save output\n",
    "    \n",
    "    print(\"Done.\")\n",
    "    return"
   ]
  },
  {
   "cell_type": "markdown",
   "id": "ce014776",
   "metadata": {},
   "source": [
    "### Clean and save data"
   ]
  },
  {
   "cell_type": "code",
   "execution_count": null,
   "id": "cd33b383",
   "metadata": {},
   "outputs": [],
   "source": [
    "in_data = 'Data/Raw-Data/'       # Input data folder\n",
    "out_data = 'Data/Clean-Data/'    # Output data folder\n",
    "sampling_rate = 2000            # Sampling rate\n",
    "    \n",
    "# The Hzs and Qs values can be adjusted to change the filters\n",
    "# that are applied to the data\n",
    "    \n",
    "Hzs = [50, 150, 250, 350, 450, 400, 550, 650, 750, 850, 950]\n",
    "Qs =  [ 5,  25,  25,  25,  25,  25,  25,  25,  25,  25,  25]\n",
    "    \n",
    "# The special cases are additional notch filters to be applied\n",
    "# only to specific subjects\n",
    "    \n",
    "special_cases = {\n",
    "    # subjectNum: ([Hzs ...],\n",
    "    #              [ Qs ...])\n",
    "    '08': ([317],\n",
    "            [ 25]),\n",
    "    '11': ([317],\n",
    "               [ 25])\n",
    "}\n",
    "    \n",
    "#FilterSignals(in_data, out_data, sampling_rate, Hzs, Qs, special_cases)"
   ]
  },
  {
   "cell_type": "markdown",
   "id": "317592f7",
   "metadata": {},
   "source": [
    "## Feature Extraction\n",
    "\n",
    "In this section, the data is examined using toolkits and the features are extracted"
   ]
  },
  {
   "cell_type": "markdown",
   "id": "b41dc992",
   "metadata": {},
   "source": [
    "### Load libraries"
   ]
  },
  {
   "cell_type": "code",
   "execution_count": 12,
   "id": "56740a42",
   "metadata": {},
   "outputs": [],
   "source": [
    "import neurokit2 as nk\n",
    "import matplotlib.pyplot as plt\n",
    "import pandas as pd\n",
    "import numpy as np"
   ]
  },
  {
   "cell_type": "markdown",
   "id": "e6157320",
   "metadata": {},
   "source": [
    "### Extract features"
   ]
  },
  {
   "cell_type": "code",
   "execution_count": 13,
   "id": "aed2020b",
   "metadata": {},
   "outputs": [
    {
     "name": "stdout",
     "output_type": "stream",
     "text": [
      "rows = 390569\n"
     ]
    },
    {
     "data": {
      "text/html": [
       "<div>\n",
       "<style scoped>\n",
       "    .dataframe tbody tr th:only-of-type {\n",
       "        vertical-align: middle;\n",
       "    }\n",
       "\n",
       "    .dataframe tbody tr th {\n",
       "        vertical-align: top;\n",
       "    }\n",
       "\n",
       "    .dataframe thead th {\n",
       "        text-align: right;\n",
       "    }\n",
       "</style>\n",
       "<table border=\"1\" class=\"dataframe\">\n",
       "  <thead>\n",
       "    <tr style=\"text-align: right;\">\n",
       "      <th></th>\n",
       "      <th>Time</th>\n",
       "      <th>EMG_zyg</th>\n",
       "      <th>EMG_cor</th>\n",
       "      <th>ECG</th>\n",
       "      <th>Respiration</th>\n",
       "      <th>Events</th>\n",
       "    </tr>\n",
       "  </thead>\n",
       "  <tbody>\n",
       "    <tr>\n",
       "      <th>0</th>\n",
       "      <td>0.0005</td>\n",
       "      <td>0.005188</td>\n",
       "      <td>0.005188</td>\n",
       "      <td>0.235596</td>\n",
       "      <td>0.256653</td>\n",
       "      <td>0.0</td>\n",
       "    </tr>\n",
       "    <tr>\n",
       "      <th>1</th>\n",
       "      <td>0.0010</td>\n",
       "      <td>0.003052</td>\n",
       "      <td>0.003662</td>\n",
       "      <td>0.235291</td>\n",
       "      <td>0.256653</td>\n",
       "      <td>0.0</td>\n",
       "    </tr>\n",
       "    <tr>\n",
       "      <th>2</th>\n",
       "      <td>0.0015</td>\n",
       "      <td>0.003967</td>\n",
       "      <td>0.001831</td>\n",
       "      <td>0.234680</td>\n",
       "      <td>0.256348</td>\n",
       "      <td>0.0</td>\n",
       "    </tr>\n",
       "    <tr>\n",
       "      <th>3</th>\n",
       "      <td>0.0020</td>\n",
       "      <td>0.005188</td>\n",
       "      <td>0.005188</td>\n",
       "      <td>0.233765</td>\n",
       "      <td>0.256348</td>\n",
       "      <td>0.0</td>\n",
       "    </tr>\n",
       "    <tr>\n",
       "      <th>4</th>\n",
       "      <td>0.0025</td>\n",
       "      <td>0.006409</td>\n",
       "      <td>0.008240</td>\n",
       "      <td>0.232544</td>\n",
       "      <td>0.256348</td>\n",
       "      <td>0.0</td>\n",
       "    </tr>\n",
       "  </tbody>\n",
       "</table>\n",
       "</div>"
      ],
      "text/plain": [
       "     Time   EMG_zyg   EMG_cor       ECG  Respiration  Events\n",
       "0  0.0005  0.005188  0.005188  0.235596     0.256653     0.0\n",
       "1  0.0010  0.003052  0.003662  0.235291     0.256653     0.0\n",
       "2  0.0015  0.003967  0.001831  0.234680     0.256348     0.0\n",
       "3  0.0020  0.005188  0.005188  0.233765     0.256348     0.0\n",
       "4  0.0025  0.006409  0.008240  0.232544     0.256348     0.0"
      ]
     },
     "execution_count": 13,
     "metadata": {},
     "output_type": "execute_result"
    }
   ],
   "source": [
    "# Load sample data\n",
    "s10_1 = 'Data/Raw-Data/Raw_PID_01-10/10/10-01-01.csv'\n",
    "s10_2 = 'Data/Raw-Data/Raw_PID_01-10/10/10-02-01.csv'\n",
    "s10_3 = 'Data/Raw-Data/Raw_PID_01-10/10/10-03-01.csv'\n",
    "sr = 2000\n",
    "\n",
    "sub_dat = pd.read_csv(s10_3)\n",
    "print('rows =', len(sub_dat.index))\n",
    "sub_dat.head()"
   ]
  },
  {
   "cell_type": "code",
   "execution_count": 14,
   "id": "c989a433",
   "metadata": {},
   "outputs": [
    {
     "data": {
      "image/png": "[encoded data removed]",
      "text/plain": [
       "<Figure size 640x480 with 1 Axes>"
      ]
     },
     "metadata": {},
     "output_type": "display_data"
    }
   ],
   "source": [
    "# Plot data\n",
    "plt.plot(sub_dat['Time'], sub_dat['EMG_zyg'])\n",
    "plt.xlabel('Time (s)')\n",
    "plt.ylabel('EMG_zyg')\n",
    "plt.title('EMG_zyg')\n",
    "plt.show()"
   ]
  },
  {
   "cell_type": "code",
   "execution_count": 15,
   "id": "f58a29a0",
   "metadata": {},
   "outputs": [
    {
     "data": {
      "text/plain": [
       "Text(0.5, 1.0, 'nk.emg_clean()')"
      ]
     },
     "execution_count": 15,
     "metadata": {},
     "output_type": "execute_result"
    },
    {
     "data": {
      "image/png": "[encoded data removed]",
      "text/plain": [
       "<Figure size 1500x1500 with 2 Axes>"
      ]
     },
     "metadata": {},
     "output_type": "display_data"
    }
   ],
   "source": [
    "sr = 2000\n",
    "\n",
    "# Test using the clean function\n",
    "s10_3 = 'Data/Raw-Data/Raw_PID_01-10/10/10-03-01.csv'\n",
    "sub_dat = pd.read_csv(s10_3)\n",
    "emg_signal = nk.signal_sanitize(sub_dat['EMG_zyg'])\n",
    "emg_cleaned = nk.emg_clean(emg_signal, sampling_rate=sr)\n",
    "psd_zyg2 = nk.signal_psd(emg_cleaned, sampling_rate=sr)\n",
    "\n",
    "# Compare with our cleaning function\n",
    "s10_3_clean = 'Data/Clean-Data/Clean_PID_01-10/10/10-03-01.csv'\n",
    "sub_dat = pd.read_csv(s10_3_clean)\n",
    "psd_zyg1 = nk.signal_psd(sub_dat['EMG_zyg'], sampling_rate=sr)\n",
    "\n",
    "# Make plots\n",
    "fig, axs = plt.subplots(1, 2, figsize=(15,15))\n",
    "axs[0].plot(psd_zyg1['Frequency'], psd_zyg1['Power'])\n",
    "axs[0].set_title('Our Clean Data')\n",
    "axs[1].plot(psd_zyg2['Frequency'], psd_zyg2['Power'])\n",
    "axs[1].set_title('nk.emg_clean()')"
   ]
  },
  {
   "cell_type": "code",
   "execution_count": 16,
   "id": "5da1e1eb",
   "metadata": {},
   "outputs": [
    {
     "data": {
      "text/html": [
       "<div>\n",
       "<style scoped>\n",
       "    .dataframe tbody tr th:only-of-type {\n",
       "        vertical-align: middle;\n",
       "    }\n",
       "\n",
       "    .dataframe tbody tr th {\n",
       "        vertical-align: top;\n",
       "    }\n",
       "\n",
       "    .dataframe thead th {\n",
       "        text-align: right;\n",
       "    }\n",
       "</style>\n",
       "<table border=\"1\" class=\"dataframe\">\n",
       "  <thead>\n",
       "    <tr style=\"text-align: right;\">\n",
       "      <th></th>\n",
       "      <th>EMG_Raw</th>\n",
       "      <th>EMG_Clean</th>\n",
       "      <th>EMG_Amplitude</th>\n",
       "      <th>EMG_Activity</th>\n",
       "      <th>EMG_Onsets</th>\n",
       "      <th>EMG_Offsets</th>\n",
       "    </tr>\n",
       "  </thead>\n",
       "  <tbody>\n",
       "    <tr>\n",
       "      <th>0</th>\n",
       "      <td>0.003673</td>\n",
       "      <td>-0.000008</td>\n",
       "      <td>-2.552418e-07</td>\n",
       "      <td>0.0</td>\n",
       "      <td>0</td>\n",
       "      <td>0</td>\n",
       "    </tr>\n",
       "    <tr>\n",
       "      <th>1</th>\n",
       "      <td>0.002893</td>\n",
       "      <td>-0.001266</td>\n",
       "      <td>-2.152191e-07</td>\n",
       "      <td>0.0</td>\n",
       "      <td>0</td>\n",
       "      <td>0</td>\n",
       "    </tr>\n",
       "    <tr>\n",
       "      <th>2</th>\n",
       "      <td>0.003437</td>\n",
       "      <td>-0.001192</td>\n",
       "      <td>-1.757062e-07</td>\n",
       "      <td>0.0</td>\n",
       "      <td>0</td>\n",
       "      <td>0</td>\n",
       "    </tr>\n",
       "    <tr>\n",
       "      <th>3</th>\n",
       "      <td>0.004484</td>\n",
       "      <td>-0.000601</td>\n",
       "      <td>-1.367967e-07</td>\n",
       "      <td>0.0</td>\n",
       "      <td>0</td>\n",
       "      <td>0</td>\n",
       "    </tr>\n",
       "    <tr>\n",
       "      <th>4</th>\n",
       "      <td>0.005459</td>\n",
       "      <td>-0.000055</td>\n",
       "      <td>-9.857868e-08</td>\n",
       "      <td>0.0</td>\n",
       "      <td>0</td>\n",
       "      <td>0</td>\n",
       "    </tr>\n",
       "    <tr>\n",
       "      <th>...</th>\n",
       "      <td>...</td>\n",
       "      <td>...</td>\n",
       "      <td>...</td>\n",
       "      <td>...</td>\n",
       "      <td>...</td>\n",
       "      <td>...</td>\n",
       "    </tr>\n",
       "    <tr>\n",
       "      <th>390564</th>\n",
       "      <td>0.000786</td>\n",
       "      <td>0.000368</td>\n",
       "      <td>6.291338e-07</td>\n",
       "      <td>0.0</td>\n",
       "      <td>0</td>\n",
       "      <td>0</td>\n",
       "    </tr>\n",
       "    <tr>\n",
       "      <th>390565</th>\n",
       "      <td>-0.000469</td>\n",
       "      <td>-0.000860</td>\n",
       "      <td>6.273057e-07</td>\n",
       "      <td>0.0</td>\n",
       "      <td>0</td>\n",
       "      <td>0</td>\n",
       "    </tr>\n",
       "    <tr>\n",
       "      <th>390566</th>\n",
       "      <td>0.000878</td>\n",
       "      <td>0.000458</td>\n",
       "      <td>6.256643e-07</td>\n",
       "      <td>0.0</td>\n",
       "      <td>0</td>\n",
       "      <td>0</td>\n",
       "    </tr>\n",
       "    <tr>\n",
       "      <th>390567</th>\n",
       "      <td>0.001123</td>\n",
       "      <td>0.000624</td>\n",
       "      <td>6.242139e-07</td>\n",
       "      <td>0.0</td>\n",
       "      <td>0</td>\n",
       "      <td>0</td>\n",
       "    </tr>\n",
       "    <tr>\n",
       "      <th>390568</th>\n",
       "      <td>0.000759</td>\n",
       "      <td>0.000144</td>\n",
       "      <td>6.229569e-07</td>\n",
       "      <td>0.0</td>\n",
       "      <td>0</td>\n",
       "      <td>0</td>\n",
       "    </tr>\n",
       "  </tbody>\n",
       "</table>\n",
       "<p>390569 rows × 6 columns</p>\n",
       "</div>"
      ],
      "text/plain": [
       "         EMG_Raw  EMG_Clean  EMG_Amplitude  EMG_Activity  EMG_Onsets  \\\n",
       "0       0.003673  -0.000008  -2.552418e-07           0.0           0   \n",
       "1       0.002893  -0.001266  -2.152191e-07           0.0           0   \n",
       "2       0.003437  -0.001192  -1.757062e-07           0.0           0   \n",
       "3       0.004484  -0.000601  -1.367967e-07           0.0           0   \n",
       "4       0.005459  -0.000055  -9.857868e-08           0.0           0   \n",
       "...          ...        ...            ...           ...         ...   \n",
       "390564  0.000786   0.000368   6.291338e-07           0.0           0   \n",
       "390565 -0.000469  -0.000860   6.273057e-07           0.0           0   \n",
       "390566  0.000878   0.000458   6.256643e-07           0.0           0   \n",
       "390567  0.001123   0.000624   6.242139e-07           0.0           0   \n",
       "390568  0.000759   0.000144   6.229569e-07           0.0           0   \n",
       "\n",
       "        EMG_Offsets  \n",
       "0                 0  \n",
       "1                 0  \n",
       "2                 0  \n",
       "3                 0  \n",
       "4                 0  \n",
       "...             ...  \n",
       "390564            0  \n",
       "390565            0  \n",
       "390566            0  \n",
       "390567            0  \n",
       "390568            0  \n",
       "\n",
       "[390569 rows x 6 columns]"
      ]
     },
     "execution_count": 16,
     "metadata": {},
     "output_type": "execute_result"
    }
   ],
   "source": [
    "signals, info = nk.emg_process(sub_dat['EMG_zyg'], sampling_rate=sr)\n",
    "signals"
   ]
  },
  {
   "cell_type": "code",
   "execution_count": 19,
   "id": "61c6999a",
   "metadata": {},
   "outputs": [
    {
     "data": {
      "text/html": [
       "<div>\n",
       "<style scoped>\n",
       "    .dataframe tbody tr th:only-of-type {\n",
       "        vertical-align: middle;\n",
       "    }\n",
       "\n",
       "    .dataframe tbody tr th {\n",
       "        vertical-align: top;\n",
       "    }\n",
       "\n",
       "    .dataframe thead th {\n",
       "        text-align: right;\n",
       "    }\n",
       "</style>\n",
       "<table border=\"1\" class=\"dataframe\">\n",
       "  <thead>\n",
       "    <tr style=\"text-align: right;\">\n",
       "      <th></th>\n",
       "      <th>EMG_Activation_N</th>\n",
       "      <th>EMG_Amplitude_Mean</th>\n",
       "    </tr>\n",
       "  </thead>\n",
       "  <tbody>\n",
       "    <tr>\n",
       "      <th>0</th>\n",
       "      <td>168.0</td>\n",
       "      <td>0.000003</td>\n",
       "    </tr>\n",
       "  </tbody>\n",
       "</table>\n",
       "</div>"
      ],
      "text/plain": [
       "   EMG_Activation_N  EMG_Amplitude_Mean\n",
       "0             168.0            0.000003"
      ]
     },
     "execution_count": 19,
     "metadata": {},
     "output_type": "execute_result"
    }
   ],
   "source": [
    "sub_analysis = nk.emg_analyze(signals, sampling_rate=sr, method=\"auto\")\n",
    "sub_analysis"
   ]
  },
  {
   "cell_type": "code",
   "execution_count": 7,
   "id": "d15c188a",
   "metadata": {},
   "outputs": [
    {
     "data": {
      "image/png": "[encoded data removed]",
      "text/plain": [
       "<Figure size 640x480 with 1 Axes>"
      ]
     },
     "metadata": {},
     "output_type": "display_data"
    }
   ],
   "source": [
    "plt.plot(sub_dat['Time'], signals['EMG_Amplitude'])\n",
    "plt.xlabel('Time (s)')\n",
    "plt.ylabel('EMG_zyg')\n",
    "plt.title('EMG_zyg')\n",
    "plt.show()"
   ]
  },
  {
   "cell_type": "code",
   "execution_count": 8,
   "id": "8af543b7",
   "metadata": {},
   "outputs": [
    {
     "name": "stdout",
     "output_type": "stream",
     "text": [
      "rows = 390569\n"
     ]
    },
    {
     "data": {
      "text/html": [
       "<div>\n",
       "<style scoped>\n",
       "    .dataframe tbody tr th:only-of-type {\n",
       "        vertical-align: middle;\n",
       "    }\n",
       "\n",
       "    .dataframe tbody tr th {\n",
       "        vertical-align: top;\n",
       "    }\n",
       "\n",
       "    .dataframe thead th {\n",
       "        text-align: right;\n",
       "    }\n",
       "</style>\n",
       "<table border=\"1\" class=\"dataframe\">\n",
       "  <thead>\n",
       "    <tr style=\"text-align: right;\">\n",
       "      <th></th>\n",
       "      <th>Unnamed: 0</th>\n",
       "      <th>Time</th>\n",
       "      <th>EMG_zyg</th>\n",
       "      <th>EMG_cor</th>\n",
       "      <th>ECG</th>\n",
       "      <th>Respiration</th>\n",
       "      <th>Events</th>\n",
       "    </tr>\n",
       "  </thead>\n",
       "  <tbody>\n",
       "    <tr>\n",
       "      <th>0</th>\n",
       "      <td>0</td>\n",
       "      <td>0.0005</td>\n",
       "      <td>0.003673</td>\n",
       "      <td>0.003673</td>\n",
       "      <td>0.235596</td>\n",
       "      <td>0.256653</td>\n",
       "      <td>0.0</td>\n",
       "    </tr>\n",
       "    <tr>\n",
       "      <th>1</th>\n",
       "      <td>1</td>\n",
       "      <td>0.0010</td>\n",
       "      <td>0.002893</td>\n",
       "      <td>0.003325</td>\n",
       "      <td>0.235291</td>\n",
       "      <td>0.256653</td>\n",
       "      <td>0.0</td>\n",
       "    </tr>\n",
       "    <tr>\n",
       "      <th>2</th>\n",
       "      <td>2</td>\n",
       "      <td>0.0015</td>\n",
       "      <td>0.003437</td>\n",
       "      <td>0.002010</td>\n",
       "      <td>0.234680</td>\n",
       "      <td>0.256348</td>\n",
       "      <td>0.0</td>\n",
       "    </tr>\n",
       "    <tr>\n",
       "      <th>3</th>\n",
       "      <td>3</td>\n",
       "      <td>0.0020</td>\n",
       "      <td>0.004484</td>\n",
       "      <td>0.004206</td>\n",
       "      <td>0.233765</td>\n",
       "      <td>0.256348</td>\n",
       "      <td>0.0</td>\n",
       "    </tr>\n",
       "    <tr>\n",
       "      <th>4</th>\n",
       "      <td>4</td>\n",
       "      <td>0.0025</td>\n",
       "      <td>0.005459</td>\n",
       "      <td>0.006690</td>\n",
       "      <td>0.232544</td>\n",
       "      <td>0.256348</td>\n",
       "      <td>0.0</td>\n",
       "    </tr>\n",
       "  </tbody>\n",
       "</table>\n",
       "</div>"
      ],
      "text/plain": [
       "   Unnamed: 0    Time   EMG_zyg   EMG_cor       ECG  Respiration  Events\n",
       "0           0  0.0005  0.003673  0.003673  0.235596     0.256653     0.0\n",
       "1           1  0.0010  0.002893  0.003325  0.235291     0.256653     0.0\n",
       "2           2  0.0015  0.003437  0.002010  0.234680     0.256348     0.0\n",
       "3           3  0.0020  0.004484  0.004206  0.233765     0.256348     0.0\n",
       "4           4  0.0025  0.005459  0.006690  0.232544     0.256348     0.0"
      ]
     },
     "execution_count": 8,
     "metadata": {},
     "output_type": "execute_result"
    }
   ],
   "source": [
    "s10_3_clean = 'Data/Clean-Data/Clean_PID_01-10/10/10-03-01.csv'\n",
    "\n",
    "sub_dat = pd.read_csv(s10_3_clean)\n",
    "print('rows =', len(sub_dat.index))\n",
    "sub_dat.head()"
   ]
  },
  {
   "cell_type": "code",
   "execution_count": 14,
   "id": "54680db8",
   "metadata": {},
   "outputs": [
    {
     "data": {
      "image/png": "[encoded data removed]",
      "text/plain": [
       "<Figure size 640x480 with 1 Axes>"
      ]
     },
     "metadata": {},
     "output_type": "display_data"
    }
   ],
   "source": [
    "test = nk.signal_sanitize(sub_dat['EMG_zyg'])\n",
    "test = nk.emg_amplitude(test)\n",
    "plt.plot(sub_dat['Time'], test)\n",
    "plt.xlabel('Time (s)')\n",
    "plt.ylabel('EMG_zyg')\n",
    "plt.title('EMG_zyg')\n",
    "plt.show()"
   ]
  },
  {
   "cell_type": "code",
   "execution_count": null,
   "id": "a5380b36",
   "metadata": {},
   "outputs": [],
   "source": []
  }
 ],
 "metadata": {
  "kernelspec": {
   "display_name": "Python 3 (ipykernel)",
   "language": "python",
   "name": "python3"
  },
  "language_info": {
   "codemirror_mode": {
    "name": "ipython",
    "version": 3
   },
   "file_extension": ".py",
   "mimetype": "text/x-python",
   "name": "python",
   "nbconvert_exporter": "python",
   "pygments_lexer": "ipython3",
   "version": "3.10.9"
  }
 },
 "nbformat": 4,
 "nbformat_minor": 5
}
